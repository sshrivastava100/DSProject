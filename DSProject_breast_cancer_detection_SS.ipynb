{
 "cells": [
  {
   "cell_type": "markdown",
   "id": "6a4e7725",
   "metadata": {
    "papermill": {
     "duration": 0.014067,
     "end_time": "2022-11-06T10:14:24.147500",
     "exception": false,
     "start_time": "2022-11-06T10:14:24.133433",
     "status": "completed"
    },
    "tags": []
   },
   "source": [
    "# **Project Title: Breast Cancer Detection**"
   ]
  },
  {
   "cell_type": "markdown",
   "id": "bcce5b9f",
   "metadata": {
    "execution": {
     "iopub.execute_input": "2022-11-03T12:30:41.738540Z",
     "iopub.status.busy": "2022-11-03T12:30:41.738108Z",
     "iopub.status.idle": "2022-11-03T12:30:41.743433Z",
     "shell.execute_reply": "2022-11-03T12:30:41.742533Z",
     "shell.execute_reply.started": "2022-11-03T12:30:41.738504Z"
    },
    "papermill": {
     "duration": 0.013133,
     "end_time": "2022-11-06T10:14:22.971221",
     "exception": false,
     "start_time": "2022-11-06T10:14:22.958088",
     "status": "completed"
    },
    "tags": []
   },
   "source": [
    "## Objective:\n",
    "\n",
    "####################################################################################################################\n",
    "##  Predict whether the cancer is benign(B) or malignant(M)\n",
    "####################################################################################################################\n",
    "\n",
    "1. Breast cancer is the second leading cause of cancer death in women. (Only lung cancer kills more women each year.)\n",
    "2. The chance that a woman will die from breast cancer is about 1 in 39 (about 2.5%).\n",
    "3. In recent years, incidence rates have increased by 0.5% per year.\n",
    "4. Breast cancer is the most common cancer in women in the United States, except for skin cancers. \n",
    "5. It is about 30% (or 1 in 3) of all new female cancers each year.\n",
    "6. Increase Awareness about this issue as early detection is the key in increasing survival rate\n",
    "7. Enhance understanding of topics covered in the course\n"
   ]
  },
  {
   "cell_type": "markdown",
   "id": "8393f53a",
   "metadata": {
    "papermill": {
     "duration": 0.013635,
     "end_time": "2022-11-06T10:10:50.610588",
     "exception": false,
     "start_time": "2022-11-06T10:10:50.596953",
     "status": "completed"
    },
    "tags": []
   },
   "source": [
    "# Dataset Information: Wisconsin Diagnostic Breast Cancer (WDBC) Dataset\n",
    "\n",
    "##############################################################################################################################\n",
    "*************Features are computed from a digitized image of a fine needle aspirate (FNA) of a breast mass.  They describe\n",
    "\tcharacteristics of the cell nuclei present in the image. A few of the images can be found at:\n",
    "\thttp://www.cs.wisc.edu/~street/images/  ********************\n",
    "\n",
    "********************This database is available through the UW CS ftp server: ftp ftp.cs.wisc.edu\n",
    "cd math-prog/cpo-dataset/machine-learn/WDBC/\n",
    "\n",
    "********************Also can be found on UCI Machine Learning Repository: https://archive.ics.uci.edu/ml/datasets/Breast+Cancer+Wisconsin+%28Diagnostic%29\n",
    "##############################################################################################################################\n",
    "\n",
    "1. Number of instances: 569 \n",
    "\n",
    "2. Number of attributes: 32 (ID, diagnosis, 30 real-valued input features)\n",
    "\n",
    "3. Attribute information\n",
    "\n",
    "1) ID number\n",
    "2) Diagnosis (M = malignant, B = benign)\n",
    "3-32)\n",
    "Ten real-valued features are computed for each cell nucleus:\n",
    "\n",
    "\ta) radius (mean of distances from center to points on the perimeter)\n",
    "\tb) texture (standard deviation of gray-scale values)\n",
    "\tc) perimeter\n",
    "\td) area\n",
    "\te) smoothness (local variation in radius lengths)\n",
    "\tf) compactness (perimeter^2 / area - 1.0)\n",
    "\tg) concavity (severity of concave portions of the contour)\n",
    "\th) concave points (number of concave portions of the contour)\n",
    "\ti) symmetry \n",
    "\tj) fractal dimension (\"coastline approximation\" - 1)\n",
    "\n",
    "4. The mean, standard error, and \"worst\" or largest (mean of the three largest values) of these features were computed for each image,resulting in 30 features.  For instance, field 3 is Mean Radius, field 13 is Radius SE, field 23 is Worst Radius.\n",
    "\n",
    "5. All feature values are recoded with four significant digits.\n",
    "\n",
    "6. Missing attribute values: none\n",
    "\n",
    "7. Class distribution: 357 benign, 212 malignant\n",
    "\n"
   ]
  },
  {
   "cell_type": "markdown",
   "id": "d2625fa9",
   "metadata": {
    "execution": {
     "iopub.execute_input": "2022-11-03T12:30:41.738540Z",
     "iopub.status.busy": "2022-11-03T12:30:41.738108Z",
     "iopub.status.idle": "2022-11-03T12:30:41.743433Z",
     "shell.execute_reply": "2022-11-03T12:30:41.742533Z",
     "shell.execute_reply.started": "2022-11-03T12:30:41.738504Z"
    },
    "papermill": {
     "duration": 0.013133,
     "end_time": "2022-11-06T10:14:22.971221",
     "exception": false,
     "start_time": "2022-11-06T10:14:22.958088",
     "status": "completed"
    },
    "tags": []
   },
   "source": [
    "# Load Data and perform analysis"
   ]
  },
  {
   "cell_type": "code",
   "execution_count": 1,
   "id": "1cfeda49",
   "metadata": {
    "execution": {
     "iopub.execute_input": "2022-11-06T10:10:50.638005Z",
     "iopub.status.busy": "2022-11-06T10:10:50.637532Z",
     "iopub.status.idle": "2022-11-06T10:10:50.648457Z",
     "shell.execute_reply": "2022-11-06T10:10:50.647579Z"
    },
    "papermill": {
     "duration": 0.028773,
     "end_time": "2022-11-06T10:10:50.651050",
     "exception": false,
     "start_time": "2022-11-06T10:10:50.622277",
     "status": "completed"
    },
    "tags": []
   },
   "outputs": [],
   "source": [
    "# import modules\n",
    "import numpy as np\n",
    "import pandas as pd\n",
    "import matplotlib.pyplot as plt\n",
    "import seaborn as sns\n",
    "import warnings\n",
    "warnings.filterwarnings(\"ignore\")\n",
    "from sklearn.model_selection import train_test_split\n",
    "from sklearn.preprocessing import StandardScaler\n",
    "#import ML model modules\n",
    "from sklearn.ensemble import RandomForestClassifier\n",
    "from sklearn.neighbors import KNeighborsClassifier\n",
    "from sklearn.model_selection import GridSearchCV\n",
    "from sklearn.linear_model import SGDClassifier\n",
    "from sklearn.svm import SVC\n",
    "#import metric module\n",
    "from sklearn.metrics import classification_report,ConfusionMatrixDisplay\n",
    "\n"
   ]
  },
  {
   "cell_type": "code",
   "execution_count": 2,
   "id": "d0179f5f",
   "metadata": {
    "execution": {
     "iopub.execute_input": "2022-11-06T10:10:50.676954Z",
     "iopub.status.busy": "2022-11-06T10:10:50.675892Z",
     "iopub.status.idle": "2022-11-06T10:10:50.704825Z",
     "shell.execute_reply": "2022-11-06T10:10:50.703622Z"
    },
    "papermill": {
     "duration": 0.044906,
     "end_time": "2022-11-06T10:10:50.707774",
     "exception": false,
     "start_time": "2022-11-06T10:10:50.662868",
     "status": "completed"
    },
    "tags": []
   },
   "outputs": [],
   "source": [
    "# load dataset\n",
    "\n",
    "df = pd.read_csv('project/breast_cancer_data.csv')"
   ]
  },
  {
   "cell_type": "code",
   "execution_count": 3,
   "id": "53003e35",
   "metadata": {
    "execution": {
     "iopub.execute_input": "2022-11-06T10:10:50.733685Z",
     "iopub.status.busy": "2022-11-06T10:10:50.733243Z",
     "iopub.status.idle": "2022-11-06T10:10:50.776946Z",
     "shell.execute_reply": "2022-11-06T10:10:50.775922Z"
    },
    "papermill": {
     "duration": 0.05991,
     "end_time": "2022-11-06T10:10:50.779792",
     "exception": false,
     "start_time": "2022-11-06T10:10:50.719882",
     "status": "completed"
    },
    "tags": []
   },
   "outputs": [
    {
     "data": {
      "text/html": [
       "<div>\n",
       "<style scoped>\n",
       "    .dataframe tbody tr th:only-of-type {\n",
       "        vertical-align: middle;\n",
       "    }\n",
       "\n",
       "    .dataframe tbody tr th {\n",
       "        vertical-align: top;\n",
       "    }\n",
       "\n",
       "    .dataframe thead th {\n",
       "        text-align: right;\n",
       "    }\n",
       "</style>\n",
       "<table border=\"1\" class=\"dataframe\">\n",
       "  <thead>\n",
       "    <tr style=\"text-align: right;\">\n",
       "      <th></th>\n",
       "      <th>id</th>\n",
       "      <th>diagnosis</th>\n",
       "      <th>radius_mean</th>\n",
       "      <th>texture_mean</th>\n",
       "      <th>perimeter_mean</th>\n",
       "      <th>area_mean</th>\n",
       "      <th>smoothness_mean</th>\n",
       "      <th>compactness_mean</th>\n",
       "      <th>concavity_mean</th>\n",
       "      <th>concave points_mean</th>\n",
       "      <th>...</th>\n",
       "      <th>texture_worst</th>\n",
       "      <th>perimeter_worst</th>\n",
       "      <th>area_worst</th>\n",
       "      <th>smoothness_worst</th>\n",
       "      <th>compactness_worst</th>\n",
       "      <th>concavity_worst</th>\n",
       "      <th>concave points_worst</th>\n",
       "      <th>symmetry_worst</th>\n",
       "      <th>fractal_dimension_worst</th>\n",
       "      <th>Unnamed: 32</th>\n",
       "    </tr>\n",
       "  </thead>\n",
       "  <tbody>\n",
       "    <tr>\n",
       "      <th>0</th>\n",
       "      <td>842302</td>\n",
       "      <td>M</td>\n",
       "      <td>17.99</td>\n",
       "      <td>10.38</td>\n",
       "      <td>122.80</td>\n",
       "      <td>1001.0</td>\n",
       "      <td>0.11840</td>\n",
       "      <td>0.27760</td>\n",
       "      <td>0.3001</td>\n",
       "      <td>0.14710</td>\n",
       "      <td>...</td>\n",
       "      <td>17.33</td>\n",
       "      <td>184.60</td>\n",
       "      <td>2019.0</td>\n",
       "      <td>0.1622</td>\n",
       "      <td>0.6656</td>\n",
       "      <td>0.7119</td>\n",
       "      <td>0.2654</td>\n",
       "      <td>0.4601</td>\n",
       "      <td>0.11890</td>\n",
       "      <td>NaN</td>\n",
       "    </tr>\n",
       "    <tr>\n",
       "      <th>1</th>\n",
       "      <td>842517</td>\n",
       "      <td>M</td>\n",
       "      <td>20.57</td>\n",
       "      <td>17.77</td>\n",
       "      <td>132.90</td>\n",
       "      <td>1326.0</td>\n",
       "      <td>0.08474</td>\n",
       "      <td>0.07864</td>\n",
       "      <td>0.0869</td>\n",
       "      <td>0.07017</td>\n",
       "      <td>...</td>\n",
       "      <td>23.41</td>\n",
       "      <td>158.80</td>\n",
       "      <td>1956.0</td>\n",
       "      <td>0.1238</td>\n",
       "      <td>0.1866</td>\n",
       "      <td>0.2416</td>\n",
       "      <td>0.1860</td>\n",
       "      <td>0.2750</td>\n",
       "      <td>0.08902</td>\n",
       "      <td>NaN</td>\n",
       "    </tr>\n",
       "    <tr>\n",
       "      <th>2</th>\n",
       "      <td>84300903</td>\n",
       "      <td>M</td>\n",
       "      <td>19.69</td>\n",
       "      <td>21.25</td>\n",
       "      <td>130.00</td>\n",
       "      <td>1203.0</td>\n",
       "      <td>0.10960</td>\n",
       "      <td>0.15990</td>\n",
       "      <td>0.1974</td>\n",
       "      <td>0.12790</td>\n",
       "      <td>...</td>\n",
       "      <td>25.53</td>\n",
       "      <td>152.50</td>\n",
       "      <td>1709.0</td>\n",
       "      <td>0.1444</td>\n",
       "      <td>0.4245</td>\n",
       "      <td>0.4504</td>\n",
       "      <td>0.2430</td>\n",
       "      <td>0.3613</td>\n",
       "      <td>0.08758</td>\n",
       "      <td>NaN</td>\n",
       "    </tr>\n",
       "    <tr>\n",
       "      <th>3</th>\n",
       "      <td>84348301</td>\n",
       "      <td>M</td>\n",
       "      <td>11.42</td>\n",
       "      <td>20.38</td>\n",
       "      <td>77.58</td>\n",
       "      <td>386.1</td>\n",
       "      <td>0.14250</td>\n",
       "      <td>0.28390</td>\n",
       "      <td>0.2414</td>\n",
       "      <td>0.10520</td>\n",
       "      <td>...</td>\n",
       "      <td>26.50</td>\n",
       "      <td>98.87</td>\n",
       "      <td>567.7</td>\n",
       "      <td>0.2098</td>\n",
       "      <td>0.8663</td>\n",
       "      <td>0.6869</td>\n",
       "      <td>0.2575</td>\n",
       "      <td>0.6638</td>\n",
       "      <td>0.17300</td>\n",
       "      <td>NaN</td>\n",
       "    </tr>\n",
       "    <tr>\n",
       "      <th>4</th>\n",
       "      <td>84358402</td>\n",
       "      <td>M</td>\n",
       "      <td>20.29</td>\n",
       "      <td>14.34</td>\n",
       "      <td>135.10</td>\n",
       "      <td>1297.0</td>\n",
       "      <td>0.10030</td>\n",
       "      <td>0.13280</td>\n",
       "      <td>0.1980</td>\n",
       "      <td>0.10430</td>\n",
       "      <td>...</td>\n",
       "      <td>16.67</td>\n",
       "      <td>152.20</td>\n",
       "      <td>1575.0</td>\n",
       "      <td>0.1374</td>\n",
       "      <td>0.2050</td>\n",
       "      <td>0.4000</td>\n",
       "      <td>0.1625</td>\n",
       "      <td>0.2364</td>\n",
       "      <td>0.07678</td>\n",
       "      <td>NaN</td>\n",
       "    </tr>\n",
       "  </tbody>\n",
       "</table>\n",
       "<p>5 rows × 33 columns</p>\n",
       "</div>"
      ],
      "text/plain": [
       "         id diagnosis  radius_mean  texture_mean  perimeter_mean  area_mean  \\\n",
       "0    842302         M        17.99         10.38          122.80     1001.0   \n",
       "1    842517         M        20.57         17.77          132.90     1326.0   \n",
       "2  84300903         M        19.69         21.25          130.00     1203.0   \n",
       "3  84348301         M        11.42         20.38           77.58      386.1   \n",
       "4  84358402         M        20.29         14.34          135.10     1297.0   \n",
       "\n",
       "   smoothness_mean  compactness_mean  concavity_mean  concave points_mean  \\\n",
       "0          0.11840           0.27760          0.3001              0.14710   \n",
       "1          0.08474           0.07864          0.0869              0.07017   \n",
       "2          0.10960           0.15990          0.1974              0.12790   \n",
       "3          0.14250           0.28390          0.2414              0.10520   \n",
       "4          0.10030           0.13280          0.1980              0.10430   \n",
       "\n",
       "   ...  texture_worst  perimeter_worst  area_worst  smoothness_worst  \\\n",
       "0  ...          17.33           184.60      2019.0            0.1622   \n",
       "1  ...          23.41           158.80      1956.0            0.1238   \n",
       "2  ...          25.53           152.50      1709.0            0.1444   \n",
       "3  ...          26.50            98.87       567.7            0.2098   \n",
       "4  ...          16.67           152.20      1575.0            0.1374   \n",
       "\n",
       "   compactness_worst  concavity_worst  concave points_worst  symmetry_worst  \\\n",
       "0             0.6656           0.7119                0.2654          0.4601   \n",
       "1             0.1866           0.2416                0.1860          0.2750   \n",
       "2             0.4245           0.4504                0.2430          0.3613   \n",
       "3             0.8663           0.6869                0.2575          0.6638   \n",
       "4             0.2050           0.4000                0.1625          0.2364   \n",
       "\n",
       "   fractal_dimension_worst  Unnamed: 32  \n",
       "0                  0.11890          NaN  \n",
       "1                  0.08902          NaN  \n",
       "2                  0.08758          NaN  \n",
       "3                  0.17300          NaN  \n",
       "4                  0.07678          NaN  \n",
       "\n",
       "[5 rows x 33 columns]"
      ]
     },
     "execution_count": 3,
     "metadata": {},
     "output_type": "execute_result"
    }
   ],
   "source": [
    "# display first five rows\n",
    "df.head()"
   ]
  },
  {
   "cell_type": "code",
   "execution_count": 4,
   "id": "fe7b1371",
   "metadata": {},
   "outputs": [
    {
     "name": "stdout",
     "output_type": "stream",
     "text": [
      "Index(['id', 'diagnosis', 'radius_mean', 'texture_mean', 'perimeter_mean',\n",
      "       'area_mean', 'smoothness_mean', 'compactness_mean', 'concavity_mean',\n",
      "       'concave points_mean', 'symmetry_mean', 'fractal_dimension_mean',\n",
      "       'radius_se', 'texture_se', 'perimeter_se', 'area_se', 'smoothness_se',\n",
      "       'compactness_se', 'concavity_se', 'concave points_se', 'symmetry_se',\n",
      "       'fractal_dimension_se', 'radius_worst', 'texture_worst',\n",
      "       'perimeter_worst', 'area_worst', 'smoothness_worst',\n",
      "       'compactness_worst', 'concavity_worst', 'concave points_worst',\n",
      "       'symmetry_worst', 'fractal_dimension_worst', 'Unnamed: 32'],\n",
      "      dtype='object')\n"
     ]
    }
   ],
   "source": [
    "# feature names as a list\n",
    "col = df.columns       # .columns gives columns names in data \n",
    "print(col)"
   ]
  },
  {
   "cell_type": "code",
   "execution_count": 5,
   "id": "e0b8c746",
   "metadata": {
    "execution": {
     "iopub.execute_input": "2022-11-06T10:10:50.805520Z",
     "iopub.status.busy": "2022-11-06T10:10:50.805145Z",
     "iopub.status.idle": "2022-11-06T10:10:50.814981Z",
     "shell.execute_reply": "2022-11-06T10:10:50.813906Z"
    },
    "papermill": {
     "duration": 0.025218,
     "end_time": "2022-11-06T10:10:50.817106",
     "exception": false,
     "start_time": "2022-11-06T10:10:50.791888",
     "status": "completed"
    },
    "tags": []
   },
   "outputs": [
    {
     "data": {
      "text/plain": [
       "id                           0\n",
       "diagnosis                    0\n",
       "radius_mean                  0\n",
       "texture_mean                 0\n",
       "perimeter_mean               0\n",
       "area_mean                    0\n",
       "smoothness_mean              0\n",
       "compactness_mean             0\n",
       "concavity_mean               0\n",
       "concave points_mean          0\n",
       "symmetry_mean                0\n",
       "fractal_dimension_mean       0\n",
       "radius_se                    0\n",
       "texture_se                   0\n",
       "perimeter_se                 0\n",
       "area_se                      0\n",
       "smoothness_se                0\n",
       "compactness_se               0\n",
       "concavity_se                 0\n",
       "concave points_se            0\n",
       "symmetry_se                  0\n",
       "fractal_dimension_se         0\n",
       "radius_worst                 0\n",
       "texture_worst                0\n",
       "perimeter_worst              0\n",
       "area_worst                   0\n",
       "smoothness_worst             0\n",
       "compactness_worst            0\n",
       "concavity_worst              0\n",
       "concave points_worst         0\n",
       "symmetry_worst               0\n",
       "fractal_dimension_worst      0\n",
       "Unnamed: 32                569\n",
       "dtype: int64"
      ]
     },
     "execution_count": 5,
     "metadata": {},
     "output_type": "execute_result"
    }
   ],
   "source": [
    "# total null in each column\n",
    "df.isnull().sum()"
   ]
  },
  {
   "cell_type": "code",
   "execution_count": 6,
   "id": "dbc62b08",
   "metadata": {
    "execution": {
     "iopub.execute_input": "2022-11-06T10:10:50.844016Z",
     "iopub.status.busy": "2022-11-06T10:10:50.843329Z",
     "iopub.status.idle": "2022-11-06T10:10:50.851688Z",
     "shell.execute_reply": "2022-11-06T10:10:50.850596Z"
    },
    "papermill": {
     "duration": 0.024444,
     "end_time": "2022-11-06T10:10:50.854084",
     "exception": false,
     "start_time": "2022-11-06T10:10:50.829640",
     "status": "completed"
    },
    "tags": []
   },
   "outputs": [
    {
     "data": {
      "text/html": [
       "<div>\n",
       "<style scoped>\n",
       "    .dataframe tbody tr th:only-of-type {\n",
       "        vertical-align: middle;\n",
       "    }\n",
       "\n",
       "    .dataframe tbody tr th {\n",
       "        vertical-align: top;\n",
       "    }\n",
       "\n",
       "    .dataframe thead th {\n",
       "        text-align: right;\n",
       "    }\n",
       "</style>\n",
       "<table border=\"1\" class=\"dataframe\">\n",
       "  <thead>\n",
       "    <tr style=\"text-align: right;\">\n",
       "      <th></th>\n",
       "      <th>id</th>\n",
       "      <th>diagnosis</th>\n",
       "      <th>radius_mean</th>\n",
       "      <th>texture_mean</th>\n",
       "      <th>perimeter_mean</th>\n",
       "      <th>area_mean</th>\n",
       "      <th>smoothness_mean</th>\n",
       "      <th>compactness_mean</th>\n",
       "      <th>concavity_mean</th>\n",
       "      <th>concave points_mean</th>\n",
       "      <th>...</th>\n",
       "      <th>radius_worst</th>\n",
       "      <th>texture_worst</th>\n",
       "      <th>perimeter_worst</th>\n",
       "      <th>area_worst</th>\n",
       "      <th>smoothness_worst</th>\n",
       "      <th>compactness_worst</th>\n",
       "      <th>concavity_worst</th>\n",
       "      <th>concave points_worst</th>\n",
       "      <th>symmetry_worst</th>\n",
       "      <th>fractal_dimension_worst</th>\n",
       "    </tr>\n",
       "  </thead>\n",
       "  <tbody>\n",
       "    <tr>\n",
       "      <th>0</th>\n",
       "      <td>842302</td>\n",
       "      <td>M</td>\n",
       "      <td>17.99</td>\n",
       "      <td>10.38</td>\n",
       "      <td>122.80</td>\n",
       "      <td>1001.0</td>\n",
       "      <td>0.11840</td>\n",
       "      <td>0.27760</td>\n",
       "      <td>0.3001</td>\n",
       "      <td>0.14710</td>\n",
       "      <td>...</td>\n",
       "      <td>25.38</td>\n",
       "      <td>17.33</td>\n",
       "      <td>184.60</td>\n",
       "      <td>2019.0</td>\n",
       "      <td>0.1622</td>\n",
       "      <td>0.6656</td>\n",
       "      <td>0.7119</td>\n",
       "      <td>0.2654</td>\n",
       "      <td>0.4601</td>\n",
       "      <td>0.11890</td>\n",
       "    </tr>\n",
       "    <tr>\n",
       "      <th>1</th>\n",
       "      <td>842517</td>\n",
       "      <td>M</td>\n",
       "      <td>20.57</td>\n",
       "      <td>17.77</td>\n",
       "      <td>132.90</td>\n",
       "      <td>1326.0</td>\n",
       "      <td>0.08474</td>\n",
       "      <td>0.07864</td>\n",
       "      <td>0.0869</td>\n",
       "      <td>0.07017</td>\n",
       "      <td>...</td>\n",
       "      <td>24.99</td>\n",
       "      <td>23.41</td>\n",
       "      <td>158.80</td>\n",
       "      <td>1956.0</td>\n",
       "      <td>0.1238</td>\n",
       "      <td>0.1866</td>\n",
       "      <td>0.2416</td>\n",
       "      <td>0.1860</td>\n",
       "      <td>0.2750</td>\n",
       "      <td>0.08902</td>\n",
       "    </tr>\n",
       "    <tr>\n",
       "      <th>2</th>\n",
       "      <td>84300903</td>\n",
       "      <td>M</td>\n",
       "      <td>19.69</td>\n",
       "      <td>21.25</td>\n",
       "      <td>130.00</td>\n",
       "      <td>1203.0</td>\n",
       "      <td>0.10960</td>\n",
       "      <td>0.15990</td>\n",
       "      <td>0.1974</td>\n",
       "      <td>0.12790</td>\n",
       "      <td>...</td>\n",
       "      <td>23.57</td>\n",
       "      <td>25.53</td>\n",
       "      <td>152.50</td>\n",
       "      <td>1709.0</td>\n",
       "      <td>0.1444</td>\n",
       "      <td>0.4245</td>\n",
       "      <td>0.4504</td>\n",
       "      <td>0.2430</td>\n",
       "      <td>0.3613</td>\n",
       "      <td>0.08758</td>\n",
       "    </tr>\n",
       "    <tr>\n",
       "      <th>3</th>\n",
       "      <td>84348301</td>\n",
       "      <td>M</td>\n",
       "      <td>11.42</td>\n",
       "      <td>20.38</td>\n",
       "      <td>77.58</td>\n",
       "      <td>386.1</td>\n",
       "      <td>0.14250</td>\n",
       "      <td>0.28390</td>\n",
       "      <td>0.2414</td>\n",
       "      <td>0.10520</td>\n",
       "      <td>...</td>\n",
       "      <td>14.91</td>\n",
       "      <td>26.50</td>\n",
       "      <td>98.87</td>\n",
       "      <td>567.7</td>\n",
       "      <td>0.2098</td>\n",
       "      <td>0.8663</td>\n",
       "      <td>0.6869</td>\n",
       "      <td>0.2575</td>\n",
       "      <td>0.6638</td>\n",
       "      <td>0.17300</td>\n",
       "    </tr>\n",
       "    <tr>\n",
       "      <th>4</th>\n",
       "      <td>84358402</td>\n",
       "      <td>M</td>\n",
       "      <td>20.29</td>\n",
       "      <td>14.34</td>\n",
       "      <td>135.10</td>\n",
       "      <td>1297.0</td>\n",
       "      <td>0.10030</td>\n",
       "      <td>0.13280</td>\n",
       "      <td>0.1980</td>\n",
       "      <td>0.10430</td>\n",
       "      <td>...</td>\n",
       "      <td>22.54</td>\n",
       "      <td>16.67</td>\n",
       "      <td>152.20</td>\n",
       "      <td>1575.0</td>\n",
       "      <td>0.1374</td>\n",
       "      <td>0.2050</td>\n",
       "      <td>0.4000</td>\n",
       "      <td>0.1625</td>\n",
       "      <td>0.2364</td>\n",
       "      <td>0.07678</td>\n",
       "    </tr>\n",
       "  </tbody>\n",
       "</table>\n",
       "<p>5 rows × 32 columns</p>\n",
       "</div>"
      ],
      "text/plain": [
       "         id diagnosis  radius_mean  texture_mean  perimeter_mean  area_mean  \\\n",
       "0    842302         M        17.99         10.38          122.80     1001.0   \n",
       "1    842517         M        20.57         17.77          132.90     1326.0   \n",
       "2  84300903         M        19.69         21.25          130.00     1203.0   \n",
       "3  84348301         M        11.42         20.38           77.58      386.1   \n",
       "4  84358402         M        20.29         14.34          135.10     1297.0   \n",
       "\n",
       "   smoothness_mean  compactness_mean  concavity_mean  concave points_mean  \\\n",
       "0          0.11840           0.27760          0.3001              0.14710   \n",
       "1          0.08474           0.07864          0.0869              0.07017   \n",
       "2          0.10960           0.15990          0.1974              0.12790   \n",
       "3          0.14250           0.28390          0.2414              0.10520   \n",
       "4          0.10030           0.13280          0.1980              0.10430   \n",
       "\n",
       "   ...  radius_worst  texture_worst  perimeter_worst  area_worst  \\\n",
       "0  ...         25.38          17.33           184.60      2019.0   \n",
       "1  ...         24.99          23.41           158.80      1956.0   \n",
       "2  ...         23.57          25.53           152.50      1709.0   \n",
       "3  ...         14.91          26.50            98.87       567.7   \n",
       "4  ...         22.54          16.67           152.20      1575.0   \n",
       "\n",
       "   smoothness_worst  compactness_worst  concavity_worst  concave points_worst  \\\n",
       "0            0.1622             0.6656           0.7119                0.2654   \n",
       "1            0.1238             0.1866           0.2416                0.1860   \n",
       "2            0.1444             0.4245           0.4504                0.2430   \n",
       "3            0.2098             0.8663           0.6869                0.2575   \n",
       "4            0.1374             0.2050           0.4000                0.1625   \n",
       "\n",
       "   symmetry_worst  fractal_dimension_worst  \n",
       "0          0.4601                  0.11890  \n",
       "1          0.2750                  0.08902  \n",
       "2          0.3613                  0.08758  \n",
       "3          0.6638                  0.17300  \n",
       "4          0.2364                  0.07678  \n",
       "\n",
       "[5 rows x 32 columns]"
      ]
     },
     "execution_count": 6,
     "metadata": {},
     "output_type": "execute_result"
    }
   ],
   "source": [
    "########## Data Cleaning:drop irrelevant columns##################\n",
    "#We can drop column Unnamed: 32 as it contains no values 'NaN'\n",
    "df.drop('Unnamed: 32', axis=1, inplace=True)\n",
    "df.head()"
   ]
  },
  {
   "cell_type": "code",
   "execution_count": 7,
   "id": "843cb7ed",
   "metadata": {
    "execution": {
     "iopub.execute_input": "2022-11-06T10:10:50.880818Z",
     "iopub.status.busy": "2022-11-06T10:10:50.880129Z",
     "iopub.status.idle": "2022-11-06T10:10:50.902633Z",
     "shell.execute_reply": "2022-11-06T10:10:50.900701Z"
    },
    "papermill": {
     "duration": 0.039284,
     "end_time": "2022-11-06T10:10:50.906001",
     "exception": false,
     "start_time": "2022-11-06T10:10:50.866717",
     "status": "completed"
    },
    "tags": []
   },
   "outputs": [
    {
     "name": "stdout",
     "output_type": "stream",
     "text": [
      "<class 'pandas.core.frame.DataFrame'>\n",
      "RangeIndex: 569 entries, 0 to 568\n",
      "Data columns (total 32 columns):\n",
      " #   Column                   Non-Null Count  Dtype  \n",
      "---  ------                   --------------  -----  \n",
      " 0   id                       569 non-null    int64  \n",
      " 1   diagnosis                569 non-null    object \n",
      " 2   radius_mean              569 non-null    float64\n",
      " 3   texture_mean             569 non-null    float64\n",
      " 4   perimeter_mean           569 non-null    float64\n",
      " 5   area_mean                569 non-null    float64\n",
      " 6   smoothness_mean          569 non-null    float64\n",
      " 7   compactness_mean         569 non-null    float64\n",
      " 8   concavity_mean           569 non-null    float64\n",
      " 9   concave points_mean      569 non-null    float64\n",
      " 10  symmetry_mean            569 non-null    float64\n",
      " 11  fractal_dimension_mean   569 non-null    float64\n",
      " 12  radius_se                569 non-null    float64\n",
      " 13  texture_se               569 non-null    float64\n",
      " 14  perimeter_se             569 non-null    float64\n",
      " 15  area_se                  569 non-null    float64\n",
      " 16  smoothness_se            569 non-null    float64\n",
      " 17  compactness_se           569 non-null    float64\n",
      " 18  concavity_se             569 non-null    float64\n",
      " 19  concave points_se        569 non-null    float64\n",
      " 20  symmetry_se              569 non-null    float64\n",
      " 21  fractal_dimension_se     569 non-null    float64\n",
      " 22  radius_worst             569 non-null    float64\n",
      " 23  texture_worst            569 non-null    float64\n",
      " 24  perimeter_worst          569 non-null    float64\n",
      " 25  area_worst               569 non-null    float64\n",
      " 26  smoothness_worst         569 non-null    float64\n",
      " 27  compactness_worst        569 non-null    float64\n",
      " 28  concavity_worst          569 non-null    float64\n",
      " 29  concave points_worst     569 non-null    float64\n",
      " 30  symmetry_worst           569 non-null    float64\n",
      " 31  fractal_dimension_worst  569 non-null    float64\n",
      "dtypes: float64(30), int64(1), object(1)\n",
      "memory usage: 142.4+ KB\n"
     ]
    }
   ],
   "source": [
    "# dataframe information\n",
    "df.info()"
   ]
  },
  {
   "cell_type": "code",
   "execution_count": 8,
   "id": "c6f3597b",
   "metadata": {
    "execution": {
     "iopub.execute_input": "2022-11-06T10:10:50.933140Z",
     "iopub.status.busy": "2022-11-06T10:10:50.932762Z",
     "iopub.status.idle": "2022-11-06T10:10:50.938535Z",
     "shell.execute_reply": "2022-11-06T10:10:50.937409Z"
    },
    "papermill": {
     "duration": 0.02203,
     "end_time": "2022-11-06T10:10:50.940861",
     "exception": false,
     "start_time": "2022-11-06T10:10:50.918831",
     "status": "completed"
    },
    "tags": []
   },
   "outputs": [
    {
     "data": {
      "text/html": [
       "<div>\n",
       "<style scoped>\n",
       "    .dataframe tbody tr th:only-of-type {\n",
       "        vertical-align: middle;\n",
       "    }\n",
       "\n",
       "    .dataframe tbody tr th {\n",
       "        vertical-align: top;\n",
       "    }\n",
       "\n",
       "    .dataframe thead th {\n",
       "        text-align: right;\n",
       "    }\n",
       "</style>\n",
       "<table border=\"1\" class=\"dataframe\">\n",
       "  <thead>\n",
       "    <tr style=\"text-align: right;\">\n",
       "      <th></th>\n",
       "      <th>radius_mean</th>\n",
       "      <th>texture_mean</th>\n",
       "      <th>perimeter_mean</th>\n",
       "      <th>area_mean</th>\n",
       "      <th>smoothness_mean</th>\n",
       "      <th>compactness_mean</th>\n",
       "      <th>concavity_mean</th>\n",
       "      <th>concave points_mean</th>\n",
       "      <th>symmetry_mean</th>\n",
       "      <th>fractal_dimension_mean</th>\n",
       "      <th>...</th>\n",
       "      <th>radius_worst</th>\n",
       "      <th>texture_worst</th>\n",
       "      <th>perimeter_worst</th>\n",
       "      <th>area_worst</th>\n",
       "      <th>smoothness_worst</th>\n",
       "      <th>compactness_worst</th>\n",
       "      <th>concavity_worst</th>\n",
       "      <th>concave points_worst</th>\n",
       "      <th>symmetry_worst</th>\n",
       "      <th>fractal_dimension_worst</th>\n",
       "    </tr>\n",
       "  </thead>\n",
       "  <tbody>\n",
       "    <tr>\n",
       "      <th>0</th>\n",
       "      <td>17.99</td>\n",
       "      <td>10.38</td>\n",
       "      <td>122.80</td>\n",
       "      <td>1001.0</td>\n",
       "      <td>0.11840</td>\n",
       "      <td>0.27760</td>\n",
       "      <td>0.3001</td>\n",
       "      <td>0.14710</td>\n",
       "      <td>0.2419</td>\n",
       "      <td>0.07871</td>\n",
       "      <td>...</td>\n",
       "      <td>25.38</td>\n",
       "      <td>17.33</td>\n",
       "      <td>184.60</td>\n",
       "      <td>2019.0</td>\n",
       "      <td>0.1622</td>\n",
       "      <td>0.6656</td>\n",
       "      <td>0.7119</td>\n",
       "      <td>0.2654</td>\n",
       "      <td>0.4601</td>\n",
       "      <td>0.11890</td>\n",
       "    </tr>\n",
       "    <tr>\n",
       "      <th>1</th>\n",
       "      <td>20.57</td>\n",
       "      <td>17.77</td>\n",
       "      <td>132.90</td>\n",
       "      <td>1326.0</td>\n",
       "      <td>0.08474</td>\n",
       "      <td>0.07864</td>\n",
       "      <td>0.0869</td>\n",
       "      <td>0.07017</td>\n",
       "      <td>0.1812</td>\n",
       "      <td>0.05667</td>\n",
       "      <td>...</td>\n",
       "      <td>24.99</td>\n",
       "      <td>23.41</td>\n",
       "      <td>158.80</td>\n",
       "      <td>1956.0</td>\n",
       "      <td>0.1238</td>\n",
       "      <td>0.1866</td>\n",
       "      <td>0.2416</td>\n",
       "      <td>0.1860</td>\n",
       "      <td>0.2750</td>\n",
       "      <td>0.08902</td>\n",
       "    </tr>\n",
       "    <tr>\n",
       "      <th>2</th>\n",
       "      <td>19.69</td>\n",
       "      <td>21.25</td>\n",
       "      <td>130.00</td>\n",
       "      <td>1203.0</td>\n",
       "      <td>0.10960</td>\n",
       "      <td>0.15990</td>\n",
       "      <td>0.1974</td>\n",
       "      <td>0.12790</td>\n",
       "      <td>0.2069</td>\n",
       "      <td>0.05999</td>\n",
       "      <td>...</td>\n",
       "      <td>23.57</td>\n",
       "      <td>25.53</td>\n",
       "      <td>152.50</td>\n",
       "      <td>1709.0</td>\n",
       "      <td>0.1444</td>\n",
       "      <td>0.4245</td>\n",
       "      <td>0.4504</td>\n",
       "      <td>0.2430</td>\n",
       "      <td>0.3613</td>\n",
       "      <td>0.08758</td>\n",
       "    </tr>\n",
       "    <tr>\n",
       "      <th>3</th>\n",
       "      <td>11.42</td>\n",
       "      <td>20.38</td>\n",
       "      <td>77.58</td>\n",
       "      <td>386.1</td>\n",
       "      <td>0.14250</td>\n",
       "      <td>0.28390</td>\n",
       "      <td>0.2414</td>\n",
       "      <td>0.10520</td>\n",
       "      <td>0.2597</td>\n",
       "      <td>0.09744</td>\n",
       "      <td>...</td>\n",
       "      <td>14.91</td>\n",
       "      <td>26.50</td>\n",
       "      <td>98.87</td>\n",
       "      <td>567.7</td>\n",
       "      <td>0.2098</td>\n",
       "      <td>0.8663</td>\n",
       "      <td>0.6869</td>\n",
       "      <td>0.2575</td>\n",
       "      <td>0.6638</td>\n",
       "      <td>0.17300</td>\n",
       "    </tr>\n",
       "    <tr>\n",
       "      <th>4</th>\n",
       "      <td>20.29</td>\n",
       "      <td>14.34</td>\n",
       "      <td>135.10</td>\n",
       "      <td>1297.0</td>\n",
       "      <td>0.10030</td>\n",
       "      <td>0.13280</td>\n",
       "      <td>0.1980</td>\n",
       "      <td>0.10430</td>\n",
       "      <td>0.1809</td>\n",
       "      <td>0.05883</td>\n",
       "      <td>...</td>\n",
       "      <td>22.54</td>\n",
       "      <td>16.67</td>\n",
       "      <td>152.20</td>\n",
       "      <td>1575.0</td>\n",
       "      <td>0.1374</td>\n",
       "      <td>0.2050</td>\n",
       "      <td>0.4000</td>\n",
       "      <td>0.1625</td>\n",
       "      <td>0.2364</td>\n",
       "      <td>0.07678</td>\n",
       "    </tr>\n",
       "  </tbody>\n",
       "</table>\n",
       "<p>5 rows × 30 columns</p>\n",
       "</div>"
      ],
      "text/plain": [
       "   radius_mean  texture_mean  perimeter_mean  area_mean  smoothness_mean  \\\n",
       "0        17.99         10.38          122.80     1001.0          0.11840   \n",
       "1        20.57         17.77          132.90     1326.0          0.08474   \n",
       "2        19.69         21.25          130.00     1203.0          0.10960   \n",
       "3        11.42         20.38           77.58      386.1          0.14250   \n",
       "4        20.29         14.34          135.10     1297.0          0.10030   \n",
       "\n",
       "   compactness_mean  concavity_mean  concave points_mean  symmetry_mean  \\\n",
       "0           0.27760          0.3001              0.14710         0.2419   \n",
       "1           0.07864          0.0869              0.07017         0.1812   \n",
       "2           0.15990          0.1974              0.12790         0.2069   \n",
       "3           0.28390          0.2414              0.10520         0.2597   \n",
       "4           0.13280          0.1980              0.10430         0.1809   \n",
       "\n",
       "   fractal_dimension_mean  ...  radius_worst  texture_worst  perimeter_worst  \\\n",
       "0                 0.07871  ...         25.38          17.33           184.60   \n",
       "1                 0.05667  ...         24.99          23.41           158.80   \n",
       "2                 0.05999  ...         23.57          25.53           152.50   \n",
       "3                 0.09744  ...         14.91          26.50            98.87   \n",
       "4                 0.05883  ...         22.54          16.67           152.20   \n",
       "\n",
       "   area_worst  smoothness_worst  compactness_worst  concavity_worst  \\\n",
       "0      2019.0            0.1622             0.6656           0.7119   \n",
       "1      1956.0            0.1238             0.1866           0.2416   \n",
       "2      1709.0            0.1444             0.4245           0.4504   \n",
       "3       567.7            0.2098             0.8663           0.6869   \n",
       "4      1575.0            0.1374             0.2050           0.4000   \n",
       "\n",
       "   concave points_worst  symmetry_worst  fractal_dimension_worst  \n",
       "0                0.2654          0.4601                  0.11890  \n",
       "1                0.1860          0.2750                  0.08902  \n",
       "2                0.2430          0.3613                  0.08758  \n",
       "3                0.2575          0.6638                  0.17300  \n",
       "4                0.1625          0.2364                  0.07678  \n",
       "\n",
       "[5 rows x 30 columns]"
      ]
     },
     "execution_count": 8,
     "metadata": {},
     "output_type": "execute_result"
    }
   ],
   "source": [
    "####No Null Values in data so we do not need to fill null values######\n",
    "# create X and y (# y includes our labels and X includes our features)\n",
    "X = df.drop(['id','diagnosis'],axis=1)\n",
    "y = df['diagnosis']\n",
    "#*******************Features*************************#\n",
    "X.head()"
   ]
  },
  {
   "cell_type": "code",
   "execution_count": 9,
   "id": "7a4b7866",
   "metadata": {},
   "outputs": [
    {
     "data": {
      "text/plain": [
       "B    357\n",
       "M    212\n",
       "Name: diagnosis, dtype: int64"
      ]
     },
     "execution_count": 9,
     "metadata": {},
     "output_type": "execute_result"
    }
   ],
   "source": [
    "#**********************Labels***********************************#\n",
    "df['diagnosis'].value_counts()"
   ]
  },
  {
   "cell_type": "code",
   "execution_count": 10,
   "id": "1fd399c5",
   "metadata": {},
   "outputs": [
    {
     "name": "stdout",
     "output_type": "stream",
     "text": [
      "Number of Benign:  357\n",
      "Number of Malignant :  212\n"
     ]
    },
    {
     "data": {
      "image/png": "[encoded data removed]",
      "text/plain": [
       "<Figure size 432x288 with 1 Axes>"
      ]
     },
     "metadata": {
      "needs_background": "light"
     },
     "output_type": "display_data"
    }
   ],
   "source": [
    "ax = sns.countplot(y,label=\"Count\")       # M = 212, B = 357\n",
    "B, M = y.value_counts()\n",
    "print('Number of Benign: ',B)\n",
    "print('Number of Malignant : ',M)\n",
    "plt.hist(y,label=\"Count\")\n",
    "#plt.xlabel(\"Diagnosis\", fontsize=14)\n",
    "#plt.ylabel(\"Count\", fontsize=14)\n",
    "plt.show()"
   ]
  },
  {
   "cell_type": "code",
   "execution_count": 11,
   "id": "7c28da69",
   "metadata": {},
   "outputs": [
    {
     "data": {
      "text/html": [
       "<div>\n",
       "<style scoped>\n",
       "    .dataframe tbody tr th:only-of-type {\n",
       "        vertical-align: middle;\n",
       "    }\n",
       "\n",
       "    .dataframe tbody tr th {\n",
       "        vertical-align: top;\n",
       "    }\n",
       "\n",
       "    .dataframe thead th {\n",
       "        text-align: right;\n",
       "    }\n",
       "</style>\n",
       "<table border=\"1\" class=\"dataframe\">\n",
       "  <thead>\n",
       "    <tr style=\"text-align: right;\">\n",
       "      <th></th>\n",
       "      <th>radius_mean</th>\n",
       "      <th>texture_mean</th>\n",
       "      <th>perimeter_mean</th>\n",
       "      <th>area_mean</th>\n",
       "      <th>smoothness_mean</th>\n",
       "      <th>compactness_mean</th>\n",
       "      <th>concavity_mean</th>\n",
       "      <th>concave points_mean</th>\n",
       "      <th>symmetry_mean</th>\n",
       "      <th>fractal_dimension_mean</th>\n",
       "      <th>...</th>\n",
       "      <th>radius_worst</th>\n",
       "      <th>texture_worst</th>\n",
       "      <th>perimeter_worst</th>\n",
       "      <th>area_worst</th>\n",
       "      <th>smoothness_worst</th>\n",
       "      <th>compactness_worst</th>\n",
       "      <th>concavity_worst</th>\n",
       "      <th>concave points_worst</th>\n",
       "      <th>symmetry_worst</th>\n",
       "      <th>fractal_dimension_worst</th>\n",
       "    </tr>\n",
       "  </thead>\n",
       "  <tbody>\n",
       "    <tr>\n",
       "      <th>count</th>\n",
       "      <td>569.000000</td>\n",
       "      <td>569.000000</td>\n",
       "      <td>569.000000</td>\n",
       "      <td>569.000000</td>\n",
       "      <td>569.000000</td>\n",
       "      <td>569.000000</td>\n",
       "      <td>569.000000</td>\n",
       "      <td>569.000000</td>\n",
       "      <td>569.000000</td>\n",
       "      <td>569.000000</td>\n",
       "      <td>...</td>\n",
       "      <td>569.000000</td>\n",
       "      <td>569.000000</td>\n",
       "      <td>569.000000</td>\n",
       "      <td>569.000000</td>\n",
       "      <td>569.000000</td>\n",
       "      <td>569.000000</td>\n",
       "      <td>569.000000</td>\n",
       "      <td>569.000000</td>\n",
       "      <td>569.000000</td>\n",
       "      <td>569.000000</td>\n",
       "    </tr>\n",
       "    <tr>\n",
       "      <th>mean</th>\n",
       "      <td>14.127292</td>\n",
       "      <td>19.289649</td>\n",
       "      <td>91.969033</td>\n",
       "      <td>654.889104</td>\n",
       "      <td>0.096360</td>\n",
       "      <td>0.104341</td>\n",
       "      <td>0.088799</td>\n",
       "      <td>0.048919</td>\n",
       "      <td>0.181162</td>\n",
       "      <td>0.062798</td>\n",
       "      <td>...</td>\n",
       "      <td>16.269190</td>\n",
       "      <td>25.677223</td>\n",
       "      <td>107.261213</td>\n",
       "      <td>880.583128</td>\n",
       "      <td>0.132369</td>\n",
       "      <td>0.254265</td>\n",
       "      <td>0.272188</td>\n",
       "      <td>0.114606</td>\n",
       "      <td>0.290076</td>\n",
       "      <td>0.083946</td>\n",
       "    </tr>\n",
       "    <tr>\n",
       "      <th>std</th>\n",
       "      <td>3.524049</td>\n",
       "      <td>4.301036</td>\n",
       "      <td>24.298981</td>\n",
       "      <td>351.914129</td>\n",
       "      <td>0.014064</td>\n",
       "      <td>0.052813</td>\n",
       "      <td>0.079720</td>\n",
       "      <td>0.038803</td>\n",
       "      <td>0.027414</td>\n",
       "      <td>0.007060</td>\n",
       "      <td>...</td>\n",
       "      <td>4.833242</td>\n",
       "      <td>6.146258</td>\n",
       "      <td>33.602542</td>\n",
       "      <td>569.356993</td>\n",
       "      <td>0.022832</td>\n",
       "      <td>0.157336</td>\n",
       "      <td>0.208624</td>\n",
       "      <td>0.065732</td>\n",
       "      <td>0.061867</td>\n",
       "      <td>0.018061</td>\n",
       "    </tr>\n",
       "    <tr>\n",
       "      <th>min</th>\n",
       "      <td>6.981000</td>\n",
       "      <td>9.710000</td>\n",
       "      <td>43.790000</td>\n",
       "      <td>143.500000</td>\n",
       "      <td>0.052630</td>\n",
       "      <td>0.019380</td>\n",
       "      <td>0.000000</td>\n",
       "      <td>0.000000</td>\n",
       "      <td>0.106000</td>\n",
       "      <td>0.049960</td>\n",
       "      <td>...</td>\n",
       "      <td>7.930000</td>\n",
       "      <td>12.020000</td>\n",
       "      <td>50.410000</td>\n",
       "      <td>185.200000</td>\n",
       "      <td>0.071170</td>\n",
       "      <td>0.027290</td>\n",
       "      <td>0.000000</td>\n",
       "      <td>0.000000</td>\n",
       "      <td>0.156500</td>\n",
       "      <td>0.055040</td>\n",
       "    </tr>\n",
       "    <tr>\n",
       "      <th>25%</th>\n",
       "      <td>11.700000</td>\n",
       "      <td>16.170000</td>\n",
       "      <td>75.170000</td>\n",
       "      <td>420.300000</td>\n",
       "      <td>0.086370</td>\n",
       "      <td>0.064920</td>\n",
       "      <td>0.029560</td>\n",
       "      <td>0.020310</td>\n",
       "      <td>0.161900</td>\n",
       "      <td>0.057700</td>\n",
       "      <td>...</td>\n",
       "      <td>13.010000</td>\n",
       "      <td>21.080000</td>\n",
       "      <td>84.110000</td>\n",
       "      <td>515.300000</td>\n",
       "      <td>0.116600</td>\n",
       "      <td>0.147200</td>\n",
       "      <td>0.114500</td>\n",
       "      <td>0.064930</td>\n",
       "      <td>0.250400</td>\n",
       "      <td>0.071460</td>\n",
       "    </tr>\n",
       "    <tr>\n",
       "      <th>50%</th>\n",
       "      <td>13.370000</td>\n",
       "      <td>18.840000</td>\n",
       "      <td>86.240000</td>\n",
       "      <td>551.100000</td>\n",
       "      <td>0.095870</td>\n",
       "      <td>0.092630</td>\n",
       "      <td>0.061540</td>\n",
       "      <td>0.033500</td>\n",
       "      <td>0.179200</td>\n",
       "      <td>0.061540</td>\n",
       "      <td>...</td>\n",
       "      <td>14.970000</td>\n",
       "      <td>25.410000</td>\n",
       "      <td>97.660000</td>\n",
       "      <td>686.500000</td>\n",
       "      <td>0.131300</td>\n",
       "      <td>0.211900</td>\n",
       "      <td>0.226700</td>\n",
       "      <td>0.099930</td>\n",
       "      <td>0.282200</td>\n",
       "      <td>0.080040</td>\n",
       "    </tr>\n",
       "    <tr>\n",
       "      <th>75%</th>\n",
       "      <td>15.780000</td>\n",
       "      <td>21.800000</td>\n",
       "      <td>104.100000</td>\n",
       "      <td>782.700000</td>\n",
       "      <td>0.105300</td>\n",
       "      <td>0.130400</td>\n",
       "      <td>0.130700</td>\n",
       "      <td>0.074000</td>\n",
       "      <td>0.195700</td>\n",
       "      <td>0.066120</td>\n",
       "      <td>...</td>\n",
       "      <td>18.790000</td>\n",
       "      <td>29.720000</td>\n",
       "      <td>125.400000</td>\n",
       "      <td>1084.000000</td>\n",
       "      <td>0.146000</td>\n",
       "      <td>0.339100</td>\n",
       "      <td>0.382900</td>\n",
       "      <td>0.161400</td>\n",
       "      <td>0.317900</td>\n",
       "      <td>0.092080</td>\n",
       "    </tr>\n",
       "    <tr>\n",
       "      <th>max</th>\n",
       "      <td>28.110000</td>\n",
       "      <td>39.280000</td>\n",
       "      <td>188.500000</td>\n",
       "      <td>2501.000000</td>\n",
       "      <td>0.163400</td>\n",
       "      <td>0.345400</td>\n",
       "      <td>0.426800</td>\n",
       "      <td>0.201200</td>\n",
       "      <td>0.304000</td>\n",
       "      <td>0.097440</td>\n",
       "      <td>...</td>\n",
       "      <td>36.040000</td>\n",
       "      <td>49.540000</td>\n",
       "      <td>251.200000</td>\n",
       "      <td>4254.000000</td>\n",
       "      <td>0.222600</td>\n",
       "      <td>1.058000</td>\n",
       "      <td>1.252000</td>\n",
       "      <td>0.291000</td>\n",
       "      <td>0.663800</td>\n",
       "      <td>0.207500</td>\n",
       "    </tr>\n",
       "  </tbody>\n",
       "</table>\n",
       "<p>8 rows × 30 columns</p>\n",
       "</div>"
      ],
      "text/plain": [
       "       radius_mean  texture_mean  perimeter_mean    area_mean  \\\n",
       "count   569.000000    569.000000      569.000000   569.000000   \n",
       "mean     14.127292     19.289649       91.969033   654.889104   \n",
       "std       3.524049      4.301036       24.298981   351.914129   \n",
       "min       6.981000      9.710000       43.790000   143.500000   \n",
       "25%      11.700000     16.170000       75.170000   420.300000   \n",
       "50%      13.370000     18.840000       86.240000   551.100000   \n",
       "75%      15.780000     21.800000      104.100000   782.700000   \n",
       "max      28.110000     39.280000      188.500000  2501.000000   \n",
       "\n",
       "       smoothness_mean  compactness_mean  concavity_mean  concave points_mean  \\\n",
       "count       569.000000        569.000000      569.000000           569.000000   \n",
       "mean          0.096360          0.104341        0.088799             0.048919   \n",
       "std           0.014064          0.052813        0.079720             0.038803   \n",
       "min           0.052630          0.019380        0.000000             0.000000   \n",
       "25%           0.086370          0.064920        0.029560             0.020310   \n",
       "50%           0.095870          0.092630        0.061540             0.033500   \n",
       "75%           0.105300          0.130400        0.130700             0.074000   \n",
       "max           0.163400          0.345400        0.426800             0.201200   \n",
       "\n",
       "       symmetry_mean  fractal_dimension_mean  ...  radius_worst  \\\n",
       "count     569.000000              569.000000  ...    569.000000   \n",
       "mean        0.181162                0.062798  ...     16.269190   \n",
       "std         0.027414                0.007060  ...      4.833242   \n",
       "min         0.106000                0.049960  ...      7.930000   \n",
       "25%         0.161900                0.057700  ...     13.010000   \n",
       "50%         0.179200                0.061540  ...     14.970000   \n",
       "75%         0.195700                0.066120  ...     18.790000   \n",
       "max         0.304000                0.097440  ...     36.040000   \n",
       "\n",
       "       texture_worst  perimeter_worst   area_worst  smoothness_worst  \\\n",
       "count     569.000000       569.000000   569.000000        569.000000   \n",
       "mean       25.677223       107.261213   880.583128          0.132369   \n",
       "std         6.146258        33.602542   569.356993          0.022832   \n",
       "min        12.020000        50.410000   185.200000          0.071170   \n",
       "25%        21.080000        84.110000   515.300000          0.116600   \n",
       "50%        25.410000        97.660000   686.500000          0.131300   \n",
       "75%        29.720000       125.400000  1084.000000          0.146000   \n",
       "max        49.540000       251.200000  4254.000000          0.222600   \n",
       "\n",
       "       compactness_worst  concavity_worst  concave points_worst  \\\n",
       "count         569.000000       569.000000            569.000000   \n",
       "mean            0.254265         0.272188              0.114606   \n",
       "std             0.157336         0.208624              0.065732   \n",
       "min             0.027290         0.000000              0.000000   \n",
       "25%             0.147200         0.114500              0.064930   \n",
       "50%             0.211900         0.226700              0.099930   \n",
       "75%             0.339100         0.382900              0.161400   \n",
       "max             1.058000         1.252000              0.291000   \n",
       "\n",
       "       symmetry_worst  fractal_dimension_worst  \n",
       "count      569.000000               569.000000  \n",
       "mean         0.290076                 0.083946  \n",
       "std          0.061867                 0.018061  \n",
       "min          0.156500                 0.055040  \n",
       "25%          0.250400                 0.071460  \n",
       "50%          0.282200                 0.080040  \n",
       "75%          0.317900                 0.092080  \n",
       "max          0.663800                 0.207500  \n",
       "\n",
       "[8 rows x 30 columns]"
      ]
     },
     "execution_count": 11,
     "metadata": {},
     "output_type": "execute_result"
    }
   ],
   "source": [
    "######Feature Info: Find variance, standart deviation, number of sample (count) or max min values########\n",
    "X.describe()"
   ]
  },
  {
   "cell_type": "code",
   "execution_count": 12,
   "id": "6506254a",
   "metadata": {},
   "outputs": [
    {
     "data": {
      "image/png": "[encoded data removed]",
      "text/plain": [
       "<Figure size 1440x1080 with 30 Axes>"
      ]
     },
     "metadata": {
      "needs_background": "light"
     },
     "output_type": "display_data"
    }
   ],
   "source": [
    "###########Do we need Standardization / Normalization? ########\n",
    "##Yes as Max values range between 0.16(smoothness_mean) to 2501(area_mean)\n",
    "X.hist(bins=50, figsize=(20,15))\n",
    "plt.show()\n"
   ]
  },
  {
   "cell_type": "code",
   "execution_count": 13,
   "id": "70d1d416",
   "metadata": {
    "scrolled": true
   },
   "outputs": [
    {
     "data": {
      "text/html": [
       "<div>\n",
       "<style scoped>\n",
       "    .dataframe tbody tr th:only-of-type {\n",
       "        vertical-align: middle;\n",
       "    }\n",
       "\n",
       "    .dataframe tbody tr th {\n",
       "        vertical-align: top;\n",
       "    }\n",
       "\n",
       "    .dataframe thead th {\n",
       "        text-align: right;\n",
       "    }\n",
       "</style>\n",
       "<table border=\"1\" class=\"dataframe\">\n",
       "  <thead>\n",
       "    <tr style=\"text-align: right;\">\n",
       "      <th></th>\n",
       "      <th>radius_mean</th>\n",
       "      <th>texture_mean</th>\n",
       "      <th>perimeter_mean</th>\n",
       "      <th>area_mean</th>\n",
       "      <th>smoothness_mean</th>\n",
       "      <th>compactness_mean</th>\n",
       "      <th>concavity_mean</th>\n",
       "      <th>concave points_mean</th>\n",
       "      <th>symmetry_mean</th>\n",
       "      <th>fractal_dimension_mean</th>\n",
       "      <th>...</th>\n",
       "      <th>radius_worst</th>\n",
       "      <th>texture_worst</th>\n",
       "      <th>perimeter_worst</th>\n",
       "      <th>area_worst</th>\n",
       "      <th>smoothness_worst</th>\n",
       "      <th>compactness_worst</th>\n",
       "      <th>concavity_worst</th>\n",
       "      <th>concave points_worst</th>\n",
       "      <th>symmetry_worst</th>\n",
       "      <th>fractal_dimension_worst</th>\n",
       "    </tr>\n",
       "  </thead>\n",
       "  <tbody>\n",
       "    <tr>\n",
       "      <th>radius_mean</th>\n",
       "      <td>1.000000</td>\n",
       "      <td>0.323782</td>\n",
       "      <td>0.997855</td>\n",
       "      <td>0.987357</td>\n",
       "      <td>0.170581</td>\n",
       "      <td>0.506124</td>\n",
       "      <td>0.676764</td>\n",
       "      <td>0.822529</td>\n",
       "      <td>0.147741</td>\n",
       "      <td>-0.311631</td>\n",
       "      <td>...</td>\n",
       "      <td>0.969539</td>\n",
       "      <td>0.297008</td>\n",
       "      <td>0.965137</td>\n",
       "      <td>0.941082</td>\n",
       "      <td>0.119616</td>\n",
       "      <td>0.413463</td>\n",
       "      <td>0.526911</td>\n",
       "      <td>0.744214</td>\n",
       "      <td>0.163953</td>\n",
       "      <td>0.007066</td>\n",
       "    </tr>\n",
       "    <tr>\n",
       "      <th>texture_mean</th>\n",
       "      <td>0.323782</td>\n",
       "      <td>1.000000</td>\n",
       "      <td>0.329533</td>\n",
       "      <td>0.321086</td>\n",
       "      <td>-0.023389</td>\n",
       "      <td>0.236702</td>\n",
       "      <td>0.302418</td>\n",
       "      <td>0.293464</td>\n",
       "      <td>0.071401</td>\n",
       "      <td>-0.076437</td>\n",
       "      <td>...</td>\n",
       "      <td>0.352573</td>\n",
       "      <td>0.912045</td>\n",
       "      <td>0.358040</td>\n",
       "      <td>0.343546</td>\n",
       "      <td>0.077503</td>\n",
       "      <td>0.277830</td>\n",
       "      <td>0.301025</td>\n",
       "      <td>0.295316</td>\n",
       "      <td>0.105008</td>\n",
       "      <td>0.119205</td>\n",
       "    </tr>\n",
       "    <tr>\n",
       "      <th>perimeter_mean</th>\n",
       "      <td>0.997855</td>\n",
       "      <td>0.329533</td>\n",
       "      <td>1.000000</td>\n",
       "      <td>0.986507</td>\n",
       "      <td>0.207278</td>\n",
       "      <td>0.556936</td>\n",
       "      <td>0.716136</td>\n",
       "      <td>0.850977</td>\n",
       "      <td>0.183027</td>\n",
       "      <td>-0.261477</td>\n",
       "      <td>...</td>\n",
       "      <td>0.969476</td>\n",
       "      <td>0.303038</td>\n",
       "      <td>0.970387</td>\n",
       "      <td>0.941550</td>\n",
       "      <td>0.150549</td>\n",
       "      <td>0.455774</td>\n",
       "      <td>0.563879</td>\n",
       "      <td>0.771241</td>\n",
       "      <td>0.189115</td>\n",
       "      <td>0.051019</td>\n",
       "    </tr>\n",
       "    <tr>\n",
       "      <th>area_mean</th>\n",
       "      <td>0.987357</td>\n",
       "      <td>0.321086</td>\n",
       "      <td>0.986507</td>\n",
       "      <td>1.000000</td>\n",
       "      <td>0.177028</td>\n",
       "      <td>0.498502</td>\n",
       "      <td>0.685983</td>\n",
       "      <td>0.823269</td>\n",
       "      <td>0.151293</td>\n",
       "      <td>-0.283110</td>\n",
       "      <td>...</td>\n",
       "      <td>0.962746</td>\n",
       "      <td>0.287489</td>\n",
       "      <td>0.959120</td>\n",
       "      <td>0.959213</td>\n",
       "      <td>0.123523</td>\n",
       "      <td>0.390410</td>\n",
       "      <td>0.512606</td>\n",
       "      <td>0.722017</td>\n",
       "      <td>0.143570</td>\n",
       "      <td>0.003738</td>\n",
       "    </tr>\n",
       "    <tr>\n",
       "      <th>smoothness_mean</th>\n",
       "      <td>0.170581</td>\n",
       "      <td>-0.023389</td>\n",
       "      <td>0.207278</td>\n",
       "      <td>0.177028</td>\n",
       "      <td>1.000000</td>\n",
       "      <td>0.659123</td>\n",
       "      <td>0.521984</td>\n",
       "      <td>0.553695</td>\n",
       "      <td>0.557775</td>\n",
       "      <td>0.584792</td>\n",
       "      <td>...</td>\n",
       "      <td>0.213120</td>\n",
       "      <td>0.036072</td>\n",
       "      <td>0.238853</td>\n",
       "      <td>0.206718</td>\n",
       "      <td>0.805324</td>\n",
       "      <td>0.472468</td>\n",
       "      <td>0.434926</td>\n",
       "      <td>0.503053</td>\n",
       "      <td>0.394309</td>\n",
       "      <td>0.499316</td>\n",
       "    </tr>\n",
       "    <tr>\n",
       "      <th>compactness_mean</th>\n",
       "      <td>0.506124</td>\n",
       "      <td>0.236702</td>\n",
       "      <td>0.556936</td>\n",
       "      <td>0.498502</td>\n",
       "      <td>0.659123</td>\n",
       "      <td>1.000000</td>\n",
       "      <td>0.883121</td>\n",
       "      <td>0.831135</td>\n",
       "      <td>0.602641</td>\n",
       "      <td>0.565369</td>\n",
       "      <td>...</td>\n",
       "      <td>0.535315</td>\n",
       "      <td>0.248133</td>\n",
       "      <td>0.590210</td>\n",
       "      <td>0.509604</td>\n",
       "      <td>0.565541</td>\n",
       "      <td>0.865809</td>\n",
       "      <td>0.816275</td>\n",
       "      <td>0.815573</td>\n",
       "      <td>0.510223</td>\n",
       "      <td>0.687382</td>\n",
       "    </tr>\n",
       "    <tr>\n",
       "      <th>concavity_mean</th>\n",
       "      <td>0.676764</td>\n",
       "      <td>0.302418</td>\n",
       "      <td>0.716136</td>\n",
       "      <td>0.685983</td>\n",
       "      <td>0.521984</td>\n",
       "      <td>0.883121</td>\n",
       "      <td>1.000000</td>\n",
       "      <td>0.921391</td>\n",
       "      <td>0.500667</td>\n",
       "      <td>0.336783</td>\n",
       "      <td>...</td>\n",
       "      <td>0.688236</td>\n",
       "      <td>0.299879</td>\n",
       "      <td>0.729565</td>\n",
       "      <td>0.675987</td>\n",
       "      <td>0.448822</td>\n",
       "      <td>0.754968</td>\n",
       "      <td>0.884103</td>\n",
       "      <td>0.861323</td>\n",
       "      <td>0.409464</td>\n",
       "      <td>0.514930</td>\n",
       "    </tr>\n",
       "    <tr>\n",
       "      <th>concave points_mean</th>\n",
       "      <td>0.822529</td>\n",
       "      <td>0.293464</td>\n",
       "      <td>0.850977</td>\n",
       "      <td>0.823269</td>\n",
       "      <td>0.553695</td>\n",
       "      <td>0.831135</td>\n",
       "      <td>0.921391</td>\n",
       "      <td>1.000000</td>\n",
       "      <td>0.462497</td>\n",
       "      <td>0.166917</td>\n",
       "      <td>...</td>\n",
       "      <td>0.830318</td>\n",
       "      <td>0.292752</td>\n",
       "      <td>0.855923</td>\n",
       "      <td>0.809630</td>\n",
       "      <td>0.452753</td>\n",
       "      <td>0.667454</td>\n",
       "      <td>0.752399</td>\n",
       "      <td>0.910155</td>\n",
       "      <td>0.375744</td>\n",
       "      <td>0.368661</td>\n",
       "    </tr>\n",
       "    <tr>\n",
       "      <th>symmetry_mean</th>\n",
       "      <td>0.147741</td>\n",
       "      <td>0.071401</td>\n",
       "      <td>0.183027</td>\n",
       "      <td>0.151293</td>\n",
       "      <td>0.557775</td>\n",
       "      <td>0.602641</td>\n",
       "      <td>0.500667</td>\n",
       "      <td>0.462497</td>\n",
       "      <td>1.000000</td>\n",
       "      <td>0.479921</td>\n",
       "      <td>...</td>\n",
       "      <td>0.185728</td>\n",
       "      <td>0.090651</td>\n",
       "      <td>0.219169</td>\n",
       "      <td>0.177193</td>\n",
       "      <td>0.426675</td>\n",
       "      <td>0.473200</td>\n",
       "      <td>0.433721</td>\n",
       "      <td>0.430297</td>\n",
       "      <td>0.699826</td>\n",
       "      <td>0.438413</td>\n",
       "    </tr>\n",
       "    <tr>\n",
       "      <th>fractal_dimension_mean</th>\n",
       "      <td>-0.311631</td>\n",
       "      <td>-0.076437</td>\n",
       "      <td>-0.261477</td>\n",
       "      <td>-0.283110</td>\n",
       "      <td>0.584792</td>\n",
       "      <td>0.565369</td>\n",
       "      <td>0.336783</td>\n",
       "      <td>0.166917</td>\n",
       "      <td>0.479921</td>\n",
       "      <td>1.000000</td>\n",
       "      <td>...</td>\n",
       "      <td>-0.253691</td>\n",
       "      <td>-0.051269</td>\n",
       "      <td>-0.205151</td>\n",
       "      <td>-0.231854</td>\n",
       "      <td>0.504942</td>\n",
       "      <td>0.458798</td>\n",
       "      <td>0.346234</td>\n",
       "      <td>0.175325</td>\n",
       "      <td>0.334019</td>\n",
       "      <td>0.767297</td>\n",
       "    </tr>\n",
       "    <tr>\n",
       "      <th>radius_se</th>\n",
       "      <td>0.679090</td>\n",
       "      <td>0.275869</td>\n",
       "      <td>0.691765</td>\n",
       "      <td>0.732562</td>\n",
       "      <td>0.301467</td>\n",
       "      <td>0.497473</td>\n",
       "      <td>0.631925</td>\n",
       "      <td>0.698050</td>\n",
       "      <td>0.303379</td>\n",
       "      <td>0.000111</td>\n",
       "      <td>...</td>\n",
       "      <td>0.715065</td>\n",
       "      <td>0.194799</td>\n",
       "      <td>0.719684</td>\n",
       "      <td>0.751548</td>\n",
       "      <td>0.141919</td>\n",
       "      <td>0.287103</td>\n",
       "      <td>0.380585</td>\n",
       "      <td>0.531062</td>\n",
       "      <td>0.094543</td>\n",
       "      <td>0.049559</td>\n",
       "    </tr>\n",
       "    <tr>\n",
       "      <th>texture_se</th>\n",
       "      <td>-0.097317</td>\n",
       "      <td>0.386358</td>\n",
       "      <td>-0.086761</td>\n",
       "      <td>-0.066280</td>\n",
       "      <td>0.068406</td>\n",
       "      <td>0.046205</td>\n",
       "      <td>0.076218</td>\n",
       "      <td>0.021480</td>\n",
       "      <td>0.128053</td>\n",
       "      <td>0.164174</td>\n",
       "      <td>...</td>\n",
       "      <td>-0.111690</td>\n",
       "      <td>0.409003</td>\n",
       "      <td>-0.102242</td>\n",
       "      <td>-0.083195</td>\n",
       "      <td>-0.073658</td>\n",
       "      <td>-0.092439</td>\n",
       "      <td>-0.068956</td>\n",
       "      <td>-0.119638</td>\n",
       "      <td>-0.128215</td>\n",
       "      <td>-0.045655</td>\n",
       "    </tr>\n",
       "    <tr>\n",
       "      <th>perimeter_se</th>\n",
       "      <td>0.674172</td>\n",
       "      <td>0.281673</td>\n",
       "      <td>0.693135</td>\n",
       "      <td>0.726628</td>\n",
       "      <td>0.296092</td>\n",
       "      <td>0.548905</td>\n",
       "      <td>0.660391</td>\n",
       "      <td>0.710650</td>\n",
       "      <td>0.313893</td>\n",
       "      <td>0.039830</td>\n",
       "      <td>...</td>\n",
       "      <td>0.697201</td>\n",
       "      <td>0.200371</td>\n",
       "      <td>0.721031</td>\n",
       "      <td>0.730713</td>\n",
       "      <td>0.130054</td>\n",
       "      <td>0.341919</td>\n",
       "      <td>0.418899</td>\n",
       "      <td>0.554897</td>\n",
       "      <td>0.109930</td>\n",
       "      <td>0.085433</td>\n",
       "    </tr>\n",
       "    <tr>\n",
       "      <th>area_se</th>\n",
       "      <td>0.735864</td>\n",
       "      <td>0.259845</td>\n",
       "      <td>0.744983</td>\n",
       "      <td>0.800086</td>\n",
       "      <td>0.246552</td>\n",
       "      <td>0.455653</td>\n",
       "      <td>0.617427</td>\n",
       "      <td>0.690299</td>\n",
       "      <td>0.223970</td>\n",
       "      <td>-0.090170</td>\n",
       "      <td>...</td>\n",
       "      <td>0.757373</td>\n",
       "      <td>0.196497</td>\n",
       "      <td>0.761213</td>\n",
       "      <td>0.811408</td>\n",
       "      <td>0.125389</td>\n",
       "      <td>0.283257</td>\n",
       "      <td>0.385100</td>\n",
       "      <td>0.538166</td>\n",
       "      <td>0.074126</td>\n",
       "      <td>0.017539</td>\n",
       "    </tr>\n",
       "    <tr>\n",
       "      <th>smoothness_se</th>\n",
       "      <td>-0.222600</td>\n",
       "      <td>0.006614</td>\n",
       "      <td>-0.202694</td>\n",
       "      <td>-0.166777</td>\n",
       "      <td>0.332375</td>\n",
       "      <td>0.135299</td>\n",
       "      <td>0.098564</td>\n",
       "      <td>0.027653</td>\n",
       "      <td>0.187321</td>\n",
       "      <td>0.401964</td>\n",
       "      <td>...</td>\n",
       "      <td>-0.230691</td>\n",
       "      <td>-0.074743</td>\n",
       "      <td>-0.217304</td>\n",
       "      <td>-0.182195</td>\n",
       "      <td>0.314457</td>\n",
       "      <td>-0.055558</td>\n",
       "      <td>-0.058298</td>\n",
       "      <td>-0.102007</td>\n",
       "      <td>-0.107342</td>\n",
       "      <td>0.101480</td>\n",
       "    </tr>\n",
       "    <tr>\n",
       "      <th>compactness_se</th>\n",
       "      <td>0.206000</td>\n",
       "      <td>0.191975</td>\n",
       "      <td>0.250744</td>\n",
       "      <td>0.212583</td>\n",
       "      <td>0.318943</td>\n",
       "      <td>0.738722</td>\n",
       "      <td>0.670279</td>\n",
       "      <td>0.490424</td>\n",
       "      <td>0.421659</td>\n",
       "      <td>0.559837</td>\n",
       "      <td>...</td>\n",
       "      <td>0.204607</td>\n",
       "      <td>0.143003</td>\n",
       "      <td>0.260516</td>\n",
       "      <td>0.199371</td>\n",
       "      <td>0.227394</td>\n",
       "      <td>0.678780</td>\n",
       "      <td>0.639147</td>\n",
       "      <td>0.483208</td>\n",
       "      <td>0.277878</td>\n",
       "      <td>0.590973</td>\n",
       "    </tr>\n",
       "    <tr>\n",
       "      <th>concavity_se</th>\n",
       "      <td>0.194204</td>\n",
       "      <td>0.143293</td>\n",
       "      <td>0.228082</td>\n",
       "      <td>0.207660</td>\n",
       "      <td>0.248396</td>\n",
       "      <td>0.570517</td>\n",
       "      <td>0.691270</td>\n",
       "      <td>0.439167</td>\n",
       "      <td>0.342627</td>\n",
       "      <td>0.446630</td>\n",
       "      <td>...</td>\n",
       "      <td>0.186904</td>\n",
       "      <td>0.100241</td>\n",
       "      <td>0.226680</td>\n",
       "      <td>0.188353</td>\n",
       "      <td>0.168481</td>\n",
       "      <td>0.484858</td>\n",
       "      <td>0.662564</td>\n",
       "      <td>0.440472</td>\n",
       "      <td>0.197788</td>\n",
       "      <td>0.439329</td>\n",
       "    </tr>\n",
       "    <tr>\n",
       "      <th>concave points_se</th>\n",
       "      <td>0.376169</td>\n",
       "      <td>0.163851</td>\n",
       "      <td>0.407217</td>\n",
       "      <td>0.372320</td>\n",
       "      <td>0.380676</td>\n",
       "      <td>0.642262</td>\n",
       "      <td>0.683260</td>\n",
       "      <td>0.615634</td>\n",
       "      <td>0.393298</td>\n",
       "      <td>0.341198</td>\n",
       "      <td>...</td>\n",
       "      <td>0.358127</td>\n",
       "      <td>0.086741</td>\n",
       "      <td>0.394999</td>\n",
       "      <td>0.342271</td>\n",
       "      <td>0.215351</td>\n",
       "      <td>0.452888</td>\n",
       "      <td>0.549592</td>\n",
       "      <td>0.602450</td>\n",
       "      <td>0.143116</td>\n",
       "      <td>0.310655</td>\n",
       "    </tr>\n",
       "    <tr>\n",
       "      <th>symmetry_se</th>\n",
       "      <td>-0.104321</td>\n",
       "      <td>0.009127</td>\n",
       "      <td>-0.081629</td>\n",
       "      <td>-0.072497</td>\n",
       "      <td>0.200774</td>\n",
       "      <td>0.229977</td>\n",
       "      <td>0.178009</td>\n",
       "      <td>0.095351</td>\n",
       "      <td>0.449137</td>\n",
       "      <td>0.345007</td>\n",
       "      <td>...</td>\n",
       "      <td>-0.128121</td>\n",
       "      <td>-0.077473</td>\n",
       "      <td>-0.103753</td>\n",
       "      <td>-0.110343</td>\n",
       "      <td>-0.012662</td>\n",
       "      <td>0.060255</td>\n",
       "      <td>0.037119</td>\n",
       "      <td>-0.030413</td>\n",
       "      <td>0.389402</td>\n",
       "      <td>0.078079</td>\n",
       "    </tr>\n",
       "    <tr>\n",
       "      <th>fractal_dimension_se</th>\n",
       "      <td>-0.042641</td>\n",
       "      <td>0.054458</td>\n",
       "      <td>-0.005523</td>\n",
       "      <td>-0.019887</td>\n",
       "      <td>0.283607</td>\n",
       "      <td>0.507318</td>\n",
       "      <td>0.449301</td>\n",
       "      <td>0.257584</td>\n",
       "      <td>0.331786</td>\n",
       "      <td>0.688132</td>\n",
       "      <td>...</td>\n",
       "      <td>-0.037488</td>\n",
       "      <td>-0.003195</td>\n",
       "      <td>-0.001000</td>\n",
       "      <td>-0.022736</td>\n",
       "      <td>0.170568</td>\n",
       "      <td>0.390159</td>\n",
       "      <td>0.379975</td>\n",
       "      <td>0.215204</td>\n",
       "      <td>0.111094</td>\n",
       "      <td>0.591328</td>\n",
       "    </tr>\n",
       "    <tr>\n",
       "      <th>radius_worst</th>\n",
       "      <td>0.969539</td>\n",
       "      <td>0.352573</td>\n",
       "      <td>0.969476</td>\n",
       "      <td>0.962746</td>\n",
       "      <td>0.213120</td>\n",
       "      <td>0.535315</td>\n",
       "      <td>0.688236</td>\n",
       "      <td>0.830318</td>\n",
       "      <td>0.185728</td>\n",
       "      <td>-0.253691</td>\n",
       "      <td>...</td>\n",
       "      <td>1.000000</td>\n",
       "      <td>0.359921</td>\n",
       "      <td>0.993708</td>\n",
       "      <td>0.984015</td>\n",
       "      <td>0.216574</td>\n",
       "      <td>0.475820</td>\n",
       "      <td>0.573975</td>\n",
       "      <td>0.787424</td>\n",
       "      <td>0.243529</td>\n",
       "      <td>0.093492</td>\n",
       "    </tr>\n",
       "    <tr>\n",
       "      <th>texture_worst</th>\n",
       "      <td>0.297008</td>\n",
       "      <td>0.912045</td>\n",
       "      <td>0.303038</td>\n",
       "      <td>0.287489</td>\n",
       "      <td>0.036072</td>\n",
       "      <td>0.248133</td>\n",
       "      <td>0.299879</td>\n",
       "      <td>0.292752</td>\n",
       "      <td>0.090651</td>\n",
       "      <td>-0.051269</td>\n",
       "      <td>...</td>\n",
       "      <td>0.359921</td>\n",
       "      <td>1.000000</td>\n",
       "      <td>0.365098</td>\n",
       "      <td>0.345842</td>\n",
       "      <td>0.225429</td>\n",
       "      <td>0.360832</td>\n",
       "      <td>0.368366</td>\n",
       "      <td>0.359755</td>\n",
       "      <td>0.233027</td>\n",
       "      <td>0.219122</td>\n",
       "    </tr>\n",
       "    <tr>\n",
       "      <th>perimeter_worst</th>\n",
       "      <td>0.965137</td>\n",
       "      <td>0.358040</td>\n",
       "      <td>0.970387</td>\n",
       "      <td>0.959120</td>\n",
       "      <td>0.238853</td>\n",
       "      <td>0.590210</td>\n",
       "      <td>0.729565</td>\n",
       "      <td>0.855923</td>\n",
       "      <td>0.219169</td>\n",
       "      <td>-0.205151</td>\n",
       "      <td>...</td>\n",
       "      <td>0.993708</td>\n",
       "      <td>0.365098</td>\n",
       "      <td>1.000000</td>\n",
       "      <td>0.977578</td>\n",
       "      <td>0.236775</td>\n",
       "      <td>0.529408</td>\n",
       "      <td>0.618344</td>\n",
       "      <td>0.816322</td>\n",
       "      <td>0.269493</td>\n",
       "      <td>0.138957</td>\n",
       "    </tr>\n",
       "    <tr>\n",
       "      <th>area_worst</th>\n",
       "      <td>0.941082</td>\n",
       "      <td>0.343546</td>\n",
       "      <td>0.941550</td>\n",
       "      <td>0.959213</td>\n",
       "      <td>0.206718</td>\n",
       "      <td>0.509604</td>\n",
       "      <td>0.675987</td>\n",
       "      <td>0.809630</td>\n",
       "      <td>0.177193</td>\n",
       "      <td>-0.231854</td>\n",
       "      <td>...</td>\n",
       "      <td>0.984015</td>\n",
       "      <td>0.345842</td>\n",
       "      <td>0.977578</td>\n",
       "      <td>1.000000</td>\n",
       "      <td>0.209145</td>\n",
       "      <td>0.438296</td>\n",
       "      <td>0.543331</td>\n",
       "      <td>0.747419</td>\n",
       "      <td>0.209146</td>\n",
       "      <td>0.079647</td>\n",
       "    </tr>\n",
       "    <tr>\n",
       "      <th>smoothness_worst</th>\n",
       "      <td>0.119616</td>\n",
       "      <td>0.077503</td>\n",
       "      <td>0.150549</td>\n",
       "      <td>0.123523</td>\n",
       "      <td>0.805324</td>\n",
       "      <td>0.565541</td>\n",
       "      <td>0.448822</td>\n",
       "      <td>0.452753</td>\n",
       "      <td>0.426675</td>\n",
       "      <td>0.504942</td>\n",
       "      <td>...</td>\n",
       "      <td>0.216574</td>\n",
       "      <td>0.225429</td>\n",
       "      <td>0.236775</td>\n",
       "      <td>0.209145</td>\n",
       "      <td>1.000000</td>\n",
       "      <td>0.568187</td>\n",
       "      <td>0.518523</td>\n",
       "      <td>0.547691</td>\n",
       "      <td>0.493838</td>\n",
       "      <td>0.617624</td>\n",
       "    </tr>\n",
       "    <tr>\n",
       "      <th>compactness_worst</th>\n",
       "      <td>0.413463</td>\n",
       "      <td>0.277830</td>\n",
       "      <td>0.455774</td>\n",
       "      <td>0.390410</td>\n",
       "      <td>0.472468</td>\n",
       "      <td>0.865809</td>\n",
       "      <td>0.754968</td>\n",
       "      <td>0.667454</td>\n",
       "      <td>0.473200</td>\n",
       "      <td>0.458798</td>\n",
       "      <td>...</td>\n",
       "      <td>0.475820</td>\n",
       "      <td>0.360832</td>\n",
       "      <td>0.529408</td>\n",
       "      <td>0.438296</td>\n",
       "      <td>0.568187</td>\n",
       "      <td>1.000000</td>\n",
       "      <td>0.892261</td>\n",
       "      <td>0.801080</td>\n",
       "      <td>0.614441</td>\n",
       "      <td>0.810455</td>\n",
       "    </tr>\n",
       "    <tr>\n",
       "      <th>concavity_worst</th>\n",
       "      <td>0.526911</td>\n",
       "      <td>0.301025</td>\n",
       "      <td>0.563879</td>\n",
       "      <td>0.512606</td>\n",
       "      <td>0.434926</td>\n",
       "      <td>0.816275</td>\n",
       "      <td>0.884103</td>\n",
       "      <td>0.752399</td>\n",
       "      <td>0.433721</td>\n",
       "      <td>0.346234</td>\n",
       "      <td>...</td>\n",
       "      <td>0.573975</td>\n",
       "      <td>0.368366</td>\n",
       "      <td>0.618344</td>\n",
       "      <td>0.543331</td>\n",
       "      <td>0.518523</td>\n",
       "      <td>0.892261</td>\n",
       "      <td>1.000000</td>\n",
       "      <td>0.855434</td>\n",
       "      <td>0.532520</td>\n",
       "      <td>0.686511</td>\n",
       "    </tr>\n",
       "    <tr>\n",
       "      <th>concave points_worst</th>\n",
       "      <td>0.744214</td>\n",
       "      <td>0.295316</td>\n",
       "      <td>0.771241</td>\n",
       "      <td>0.722017</td>\n",
       "      <td>0.503053</td>\n",
       "      <td>0.815573</td>\n",
       "      <td>0.861323</td>\n",
       "      <td>0.910155</td>\n",
       "      <td>0.430297</td>\n",
       "      <td>0.175325</td>\n",
       "      <td>...</td>\n",
       "      <td>0.787424</td>\n",
       "      <td>0.359755</td>\n",
       "      <td>0.816322</td>\n",
       "      <td>0.747419</td>\n",
       "      <td>0.547691</td>\n",
       "      <td>0.801080</td>\n",
       "      <td>0.855434</td>\n",
       "      <td>1.000000</td>\n",
       "      <td>0.502528</td>\n",
       "      <td>0.511114</td>\n",
       "    </tr>\n",
       "    <tr>\n",
       "      <th>symmetry_worst</th>\n",
       "      <td>0.163953</td>\n",
       "      <td>0.105008</td>\n",
       "      <td>0.189115</td>\n",
       "      <td>0.143570</td>\n",
       "      <td>0.394309</td>\n",
       "      <td>0.510223</td>\n",
       "      <td>0.409464</td>\n",
       "      <td>0.375744</td>\n",
       "      <td>0.699826</td>\n",
       "      <td>0.334019</td>\n",
       "      <td>...</td>\n",
       "      <td>0.243529</td>\n",
       "      <td>0.233027</td>\n",
       "      <td>0.269493</td>\n",
       "      <td>0.209146</td>\n",
       "      <td>0.493838</td>\n",
       "      <td>0.614441</td>\n",
       "      <td>0.532520</td>\n",
       "      <td>0.502528</td>\n",
       "      <td>1.000000</td>\n",
       "      <td>0.537848</td>\n",
       "    </tr>\n",
       "    <tr>\n",
       "      <th>fractal_dimension_worst</th>\n",
       "      <td>0.007066</td>\n",
       "      <td>0.119205</td>\n",
       "      <td>0.051019</td>\n",
       "      <td>0.003738</td>\n",
       "      <td>0.499316</td>\n",
       "      <td>0.687382</td>\n",
       "      <td>0.514930</td>\n",
       "      <td>0.368661</td>\n",
       "      <td>0.438413</td>\n",
       "      <td>0.767297</td>\n",
       "      <td>...</td>\n",
       "      <td>0.093492</td>\n",
       "      <td>0.219122</td>\n",
       "      <td>0.138957</td>\n",
       "      <td>0.079647</td>\n",
       "      <td>0.617624</td>\n",
       "      <td>0.810455</td>\n",
       "      <td>0.686511</td>\n",
       "      <td>0.511114</td>\n",
       "      <td>0.537848</td>\n",
       "      <td>1.000000</td>\n",
       "    </tr>\n",
       "  </tbody>\n",
       "</table>\n",
       "<p>30 rows × 30 columns</p>\n",
       "</div>"
      ],
      "text/plain": [
       "                         radius_mean  texture_mean  perimeter_mean  area_mean  \\\n",
       "radius_mean                 1.000000      0.323782        0.997855   0.987357   \n",
       "texture_mean                0.323782      1.000000        0.329533   0.321086   \n",
       "perimeter_mean              0.997855      0.329533        1.000000   0.986507   \n",
       "area_mean                   0.987357      0.321086        0.986507   1.000000   \n",
       "smoothness_mean             0.170581     -0.023389        0.207278   0.177028   \n",
       "compactness_mean            0.506124      0.236702        0.556936   0.498502   \n",
       "concavity_mean              0.676764      0.302418        0.716136   0.685983   \n",
       "concave points_mean         0.822529      0.293464        0.850977   0.823269   \n",
       "symmetry_mean               0.147741      0.071401        0.183027   0.151293   \n",
       "fractal_dimension_mean     -0.311631     -0.076437       -0.261477  -0.283110   \n",
       "radius_se                   0.679090      0.275869        0.691765   0.732562   \n",
       "texture_se                 -0.097317      0.386358       -0.086761  -0.066280   \n",
       "perimeter_se                0.674172      0.281673        0.693135   0.726628   \n",
       "area_se                     0.735864      0.259845        0.744983   0.800086   \n",
       "smoothness_se              -0.222600      0.006614       -0.202694  -0.166777   \n",
       "compactness_se              0.206000      0.191975        0.250744   0.212583   \n",
       "concavity_se                0.194204      0.143293        0.228082   0.207660   \n",
       "concave points_se           0.376169      0.163851        0.407217   0.372320   \n",
       "symmetry_se                -0.104321      0.009127       -0.081629  -0.072497   \n",
       "fractal_dimension_se       -0.042641      0.054458       -0.005523  -0.019887   \n",
       "radius_worst                0.969539      0.352573        0.969476   0.962746   \n",
       "texture_worst               0.297008      0.912045        0.303038   0.287489   \n",
       "perimeter_worst             0.965137      0.358040        0.970387   0.959120   \n",
       "area_worst                  0.941082      0.343546        0.941550   0.959213   \n",
       "smoothness_worst            0.119616      0.077503        0.150549   0.123523   \n",
       "compactness_worst           0.413463      0.277830        0.455774   0.390410   \n",
       "concavity_worst             0.526911      0.301025        0.563879   0.512606   \n",
       "concave points_worst        0.744214      0.295316        0.771241   0.722017   \n",
       "symmetry_worst              0.163953      0.105008        0.189115   0.143570   \n",
       "fractal_dimension_worst     0.007066      0.119205        0.051019   0.003738   \n",
       "\n",
       "                         smoothness_mean  compactness_mean  concavity_mean  \\\n",
       "radius_mean                     0.170581          0.506124        0.676764   \n",
       "texture_mean                   -0.023389          0.236702        0.302418   \n",
       "perimeter_mean                  0.207278          0.556936        0.716136   \n",
       "area_mean                       0.177028          0.498502        0.685983   \n",
       "smoothness_mean                 1.000000          0.659123        0.521984   \n",
       "compactness_mean                0.659123          1.000000        0.883121   \n",
       "concavity_mean                  0.521984          0.883121        1.000000   \n",
       "concave points_mean             0.553695          0.831135        0.921391   \n",
       "symmetry_mean                   0.557775          0.602641        0.500667   \n",
       "fractal_dimension_mean          0.584792          0.565369        0.336783   \n",
       "radius_se                       0.301467          0.497473        0.631925   \n",
       "texture_se                      0.068406          0.046205        0.076218   \n",
       "perimeter_se                    0.296092          0.548905        0.660391   \n",
       "area_se                         0.246552          0.455653        0.617427   \n",
       "smoothness_se                   0.332375          0.135299        0.098564   \n",
       "compactness_se                  0.318943          0.738722        0.670279   \n",
       "concavity_se                    0.248396          0.570517        0.691270   \n",
       "concave points_se               0.380676          0.642262        0.683260   \n",
       "symmetry_se                     0.200774          0.229977        0.178009   \n",
       "fractal_dimension_se            0.283607          0.507318        0.449301   \n",
       "radius_worst                    0.213120          0.535315        0.688236   \n",
       "texture_worst                   0.036072          0.248133        0.299879   \n",
       "perimeter_worst                 0.238853          0.590210        0.729565   \n",
       "area_worst                      0.206718          0.509604        0.675987   \n",
       "smoothness_worst                0.805324          0.565541        0.448822   \n",
       "compactness_worst               0.472468          0.865809        0.754968   \n",
       "concavity_worst                 0.434926          0.816275        0.884103   \n",
       "concave points_worst            0.503053          0.815573        0.861323   \n",
       "symmetry_worst                  0.394309          0.510223        0.409464   \n",
       "fractal_dimension_worst         0.499316          0.687382        0.514930   \n",
       "\n",
       "                         concave points_mean  symmetry_mean  \\\n",
       "radius_mean                         0.822529       0.147741   \n",
       "texture_mean                        0.293464       0.071401   \n",
       "perimeter_mean                      0.850977       0.183027   \n",
       "area_mean                           0.823269       0.151293   \n",
       "smoothness_mean                     0.553695       0.557775   \n",
       "compactness_mean                    0.831135       0.602641   \n",
       "concavity_mean                      0.921391       0.500667   \n",
       "concave points_mean                 1.000000       0.462497   \n",
       "symmetry_mean                       0.462497       1.000000   \n",
       "fractal_dimension_mean              0.166917       0.479921   \n",
       "radius_se                           0.698050       0.303379   \n",
       "texture_se                          0.021480       0.128053   \n",
       "perimeter_se                        0.710650       0.313893   \n",
       "area_se                             0.690299       0.223970   \n",
       "smoothness_se                       0.027653       0.187321   \n",
       "compactness_se                      0.490424       0.421659   \n",
       "concavity_se                        0.439167       0.342627   \n",
       "concave points_se                   0.615634       0.393298   \n",
       "symmetry_se                         0.095351       0.449137   \n",
       "fractal_dimension_se                0.257584       0.331786   \n",
       "radius_worst                        0.830318       0.185728   \n",
       "texture_worst                       0.292752       0.090651   \n",
       "perimeter_worst                     0.855923       0.219169   \n",
       "area_worst                          0.809630       0.177193   \n",
       "smoothness_worst                    0.452753       0.426675   \n",
       "compactness_worst                   0.667454       0.473200   \n",
       "concavity_worst                     0.752399       0.433721   \n",
       "concave points_worst                0.910155       0.430297   \n",
       "symmetry_worst                      0.375744       0.699826   \n",
       "fractal_dimension_worst             0.368661       0.438413   \n",
       "\n",
       "                         fractal_dimension_mean  ...  radius_worst  \\\n",
       "radius_mean                           -0.311631  ...      0.969539   \n",
       "texture_mean                          -0.076437  ...      0.352573   \n",
       "perimeter_mean                        -0.261477  ...      0.969476   \n",
       "area_mean                             -0.283110  ...      0.962746   \n",
       "smoothness_mean                        0.584792  ...      0.213120   \n",
       "compactness_mean                       0.565369  ...      0.535315   \n",
       "concavity_mean                         0.336783  ...      0.688236   \n",
       "concave points_mean                    0.166917  ...      0.830318   \n",
       "symmetry_mean                          0.479921  ...      0.185728   \n",
       "fractal_dimension_mean                 1.000000  ...     -0.253691   \n",
       "radius_se                              0.000111  ...      0.715065   \n",
       "texture_se                             0.164174  ...     -0.111690   \n",
       "perimeter_se                           0.039830  ...      0.697201   \n",
       "area_se                               -0.090170  ...      0.757373   \n",
       "smoothness_se                          0.401964  ...     -0.230691   \n",
       "compactness_se                         0.559837  ...      0.204607   \n",
       "concavity_se                           0.446630  ...      0.186904   \n",
       "concave points_se                      0.341198  ...      0.358127   \n",
       "symmetry_se                            0.345007  ...     -0.128121   \n",
       "fractal_dimension_se                   0.688132  ...     -0.037488   \n",
       "radius_worst                          -0.253691  ...      1.000000   \n",
       "texture_worst                         -0.051269  ...      0.359921   \n",
       "perimeter_worst                       -0.205151  ...      0.993708   \n",
       "area_worst                            -0.231854  ...      0.984015   \n",
       "smoothness_worst                       0.504942  ...      0.216574   \n",
       "compactness_worst                      0.458798  ...      0.475820   \n",
       "concavity_worst                        0.346234  ...      0.573975   \n",
       "concave points_worst                   0.175325  ...      0.787424   \n",
       "symmetry_worst                         0.334019  ...      0.243529   \n",
       "fractal_dimension_worst                0.767297  ...      0.093492   \n",
       "\n",
       "                         texture_worst  perimeter_worst  area_worst  \\\n",
       "radius_mean                   0.297008         0.965137    0.941082   \n",
       "texture_mean                  0.912045         0.358040    0.343546   \n",
       "perimeter_mean                0.303038         0.970387    0.941550   \n",
       "area_mean                     0.287489         0.959120    0.959213   \n",
       "smoothness_mean               0.036072         0.238853    0.206718   \n",
       "compactness_mean              0.248133         0.590210    0.509604   \n",
       "concavity_mean                0.299879         0.729565    0.675987   \n",
       "concave points_mean           0.292752         0.855923    0.809630   \n",
       "symmetry_mean                 0.090651         0.219169    0.177193   \n",
       "fractal_dimension_mean       -0.051269        -0.205151   -0.231854   \n",
       "radius_se                     0.194799         0.719684    0.751548   \n",
       "texture_se                    0.409003        -0.102242   -0.083195   \n",
       "perimeter_se                  0.200371         0.721031    0.730713   \n",
       "area_se                       0.196497         0.761213    0.811408   \n",
       "smoothness_se                -0.074743        -0.217304   -0.182195   \n",
       "compactness_se                0.143003         0.260516    0.199371   \n",
       "concavity_se                  0.100241         0.226680    0.188353   \n",
       "concave points_se             0.086741         0.394999    0.342271   \n",
       "symmetry_se                  -0.077473        -0.103753   -0.110343   \n",
       "fractal_dimension_se         -0.003195        -0.001000   -0.022736   \n",
       "radius_worst                  0.359921         0.993708    0.984015   \n",
       "texture_worst                 1.000000         0.365098    0.345842   \n",
       "perimeter_worst               0.365098         1.000000    0.977578   \n",
       "area_worst                    0.345842         0.977578    1.000000   \n",
       "smoothness_worst              0.225429         0.236775    0.209145   \n",
       "compactness_worst             0.360832         0.529408    0.438296   \n",
       "concavity_worst               0.368366         0.618344    0.543331   \n",
       "concave points_worst          0.359755         0.816322    0.747419   \n",
       "symmetry_worst                0.233027         0.269493    0.209146   \n",
       "fractal_dimension_worst       0.219122         0.138957    0.079647   \n",
       "\n",
       "                         smoothness_worst  compactness_worst  concavity_worst  \\\n",
       "radius_mean                      0.119616           0.413463         0.526911   \n",
       "texture_mean                     0.077503           0.277830         0.301025   \n",
       "perimeter_mean                   0.150549           0.455774         0.563879   \n",
       "area_mean                        0.123523           0.390410         0.512606   \n",
       "smoothness_mean                  0.805324           0.472468         0.434926   \n",
       "compactness_mean                 0.565541           0.865809         0.816275   \n",
       "concavity_mean                   0.448822           0.754968         0.884103   \n",
       "concave points_mean              0.452753           0.667454         0.752399   \n",
       "symmetry_mean                    0.426675           0.473200         0.433721   \n",
       "fractal_dimension_mean           0.504942           0.458798         0.346234   \n",
       "radius_se                        0.141919           0.287103         0.380585   \n",
       "texture_se                      -0.073658          -0.092439        -0.068956   \n",
       "perimeter_se                     0.130054           0.341919         0.418899   \n",
       "area_se                          0.125389           0.283257         0.385100   \n",
       "smoothness_se                    0.314457          -0.055558        -0.058298   \n",
       "compactness_se                   0.227394           0.678780         0.639147   \n",
       "concavity_se                     0.168481           0.484858         0.662564   \n",
       "concave points_se                0.215351           0.452888         0.549592   \n",
       "symmetry_se                     -0.012662           0.060255         0.037119   \n",
       "fractal_dimension_se             0.170568           0.390159         0.379975   \n",
       "radius_worst                     0.216574           0.475820         0.573975   \n",
       "texture_worst                    0.225429           0.360832         0.368366   \n",
       "perimeter_worst                  0.236775           0.529408         0.618344   \n",
       "area_worst                       0.209145           0.438296         0.543331   \n",
       "smoothness_worst                 1.000000           0.568187         0.518523   \n",
       "compactness_worst                0.568187           1.000000         0.892261   \n",
       "concavity_worst                  0.518523           0.892261         1.000000   \n",
       "concave points_worst             0.547691           0.801080         0.855434   \n",
       "symmetry_worst                   0.493838           0.614441         0.532520   \n",
       "fractal_dimension_worst          0.617624           0.810455         0.686511   \n",
       "\n",
       "                         concave points_worst  symmetry_worst  \\\n",
       "radius_mean                          0.744214        0.163953   \n",
       "texture_mean                         0.295316        0.105008   \n",
       "perimeter_mean                       0.771241        0.189115   \n",
       "area_mean                            0.722017        0.143570   \n",
       "smoothness_mean                      0.503053        0.394309   \n",
       "compactness_mean                     0.815573        0.510223   \n",
       "concavity_mean                       0.861323        0.409464   \n",
       "concave points_mean                  0.910155        0.375744   \n",
       "symmetry_mean                        0.430297        0.699826   \n",
       "fractal_dimension_mean               0.175325        0.334019   \n",
       "radius_se                            0.531062        0.094543   \n",
       "texture_se                          -0.119638       -0.128215   \n",
       "perimeter_se                         0.554897        0.109930   \n",
       "area_se                              0.538166        0.074126   \n",
       "smoothness_se                       -0.102007       -0.107342   \n",
       "compactness_se                       0.483208        0.277878   \n",
       "concavity_se                         0.440472        0.197788   \n",
       "concave points_se                    0.602450        0.143116   \n",
       "symmetry_se                         -0.030413        0.389402   \n",
       "fractal_dimension_se                 0.215204        0.111094   \n",
       "radius_worst                         0.787424        0.243529   \n",
       "texture_worst                        0.359755        0.233027   \n",
       "perimeter_worst                      0.816322        0.269493   \n",
       "area_worst                           0.747419        0.209146   \n",
       "smoothness_worst                     0.547691        0.493838   \n",
       "compactness_worst                    0.801080        0.614441   \n",
       "concavity_worst                      0.855434        0.532520   \n",
       "concave points_worst                 1.000000        0.502528   \n",
       "symmetry_worst                       0.502528        1.000000   \n",
       "fractal_dimension_worst              0.511114        0.537848   \n",
       "\n",
       "                         fractal_dimension_worst  \n",
       "radius_mean                             0.007066  \n",
       "texture_mean                            0.119205  \n",
       "perimeter_mean                          0.051019  \n",
       "area_mean                               0.003738  \n",
       "smoothness_mean                         0.499316  \n",
       "compactness_mean                        0.687382  \n",
       "concavity_mean                          0.514930  \n",
       "concave points_mean                     0.368661  \n",
       "symmetry_mean                           0.438413  \n",
       "fractal_dimension_mean                  0.767297  \n",
       "radius_se                               0.049559  \n",
       "texture_se                             -0.045655  \n",
       "perimeter_se                            0.085433  \n",
       "area_se                                 0.017539  \n",
       "smoothness_se                           0.101480  \n",
       "compactness_se                          0.590973  \n",
       "concavity_se                            0.439329  \n",
       "concave points_se                       0.310655  \n",
       "symmetry_se                             0.078079  \n",
       "fractal_dimension_se                    0.591328  \n",
       "radius_worst                            0.093492  \n",
       "texture_worst                           0.219122  \n",
       "perimeter_worst                         0.138957  \n",
       "area_worst                              0.079647  \n",
       "smoothness_worst                        0.617624  \n",
       "compactness_worst                       0.810455  \n",
       "concavity_worst                         0.686511  \n",
       "concave points_worst                    0.511114  \n",
       "symmetry_worst                          0.537848  \n",
       "fractal_dimension_worst                 1.000000  \n",
       "\n",
       "[30 rows x 30 columns]"
      ]
     },
     "execution_count": 13,
     "metadata": {},
     "output_type": "execute_result"
    }
   ],
   "source": [
    "########################View Co-relation########################\n",
    "X.corr()"
   ]
  },
  {
   "cell_type": "code",
   "execution_count": 14,
   "id": "5a110154",
   "metadata": {},
   "outputs": [],
   "source": [
    "############################################### Feature Selection ################################################### \n",
    "#As it can be seen above radius_mean, perimeter_mean and area_mean are correlated with each other so we will use only area_mean. \n",
    "#Compactness_mean, concavity_mean and concave points_mean are correlated with each other.Therefore I only choose concavity_mean.\n",
    "# Apart from these, radius_se, perimeter_se and area_se are correlated and I only use area_se. \n",
    "#radius_worst, perimeter_worst and area_worst are correlated so I use area_worst. \n",
    "#Compactness_worst, concavity_worst and concave points_worst so I use concavity_worst. \n",
    "#Compactness_se, concavity_se and concave points_se so I use concavity_se. \n",
    "#texture_mean and texture_worst are correlated and I use texture_mean. \n",
    "#area_worst and area_mean are correlated, I use area_mean."
   ]
  },
  {
   "cell_type": "code",
   "execution_count": 15,
   "id": "99de21b9",
   "metadata": {},
   "outputs": [
    {
     "data": {
      "text/plain": [
       "array([[<AxesSubplot:xlabel='area_mean', ylabel='area_mean'>,\n",
       "        <AxesSubplot:xlabel='concavity_mean', ylabel='area_mean'>,\n",
       "        <AxesSubplot:xlabel='area_se', ylabel='area_mean'>,\n",
       "        <AxesSubplot:xlabel='area_worst', ylabel='area_mean'>,\n",
       "        <AxesSubplot:xlabel='concavity_worst', ylabel='area_mean'>,\n",
       "        <AxesSubplot:xlabel='concavity_se', ylabel='area_mean'>,\n",
       "        <AxesSubplot:xlabel='texture_mean', ylabel='area_mean'>],\n",
       "       [<AxesSubplot:xlabel='area_mean', ylabel='concavity_mean'>,\n",
       "        <AxesSubplot:xlabel='concavity_mean', ylabel='concavity_mean'>,\n",
       "        <AxesSubplot:xlabel='area_se', ylabel='concavity_mean'>,\n",
       "        <AxesSubplot:xlabel='area_worst', ylabel='concavity_mean'>,\n",
       "        <AxesSubplot:xlabel='concavity_worst', ylabel='concavity_mean'>,\n",
       "        <AxesSubplot:xlabel='concavity_se', ylabel='concavity_mean'>,\n",
       "        <AxesSubplot:xlabel='texture_mean', ylabel='concavity_mean'>],\n",
       "       [<AxesSubplot:xlabel='area_mean', ylabel='area_se'>,\n",
       "        <AxesSubplot:xlabel='concavity_mean', ylabel='area_se'>,\n",
       "        <AxesSubplot:xlabel='area_se', ylabel='area_se'>,\n",
       "        <AxesSubplot:xlabel='area_worst', ylabel='area_se'>,\n",
       "        <AxesSubplot:xlabel='concavity_worst', ylabel='area_se'>,\n",
       "        <AxesSubplot:xlabel='concavity_se', ylabel='area_se'>,\n",
       "        <AxesSubplot:xlabel='texture_mean', ylabel='area_se'>],\n",
       "       [<AxesSubplot:xlabel='area_mean', ylabel='area_worst'>,\n",
       "        <AxesSubplot:xlabel='concavity_mean', ylabel='area_worst'>,\n",
       "        <AxesSubplot:xlabel='area_se', ylabel='area_worst'>,\n",
       "        <AxesSubplot:xlabel='area_worst', ylabel='area_worst'>,\n",
       "        <AxesSubplot:xlabel='concavity_worst', ylabel='area_worst'>,\n",
       "        <AxesSubplot:xlabel='concavity_se', ylabel='area_worst'>,\n",
       "        <AxesSubplot:xlabel='texture_mean', ylabel='area_worst'>],\n",
       "       [<AxesSubplot:xlabel='area_mean', ylabel='concavity_worst'>,\n",
       "        <AxesSubplot:xlabel='concavity_mean', ylabel='concavity_worst'>,\n",
       "        <AxesSubplot:xlabel='area_se', ylabel='concavity_worst'>,\n",
       "        <AxesSubplot:xlabel='area_worst', ylabel='concavity_worst'>,\n",
       "        <AxesSubplot:xlabel='concavity_worst', ylabel='concavity_worst'>,\n",
       "        <AxesSubplot:xlabel='concavity_se', ylabel='concavity_worst'>,\n",
       "        <AxesSubplot:xlabel='texture_mean', ylabel='concavity_worst'>],\n",
       "       [<AxesSubplot:xlabel='area_mean', ylabel='concavity_se'>,\n",
       "        <AxesSubplot:xlabel='concavity_mean', ylabel='concavity_se'>,\n",
       "        <AxesSubplot:xlabel='area_se', ylabel='concavity_se'>,\n",
       "        <AxesSubplot:xlabel='area_worst', ylabel='concavity_se'>,\n",
       "        <AxesSubplot:xlabel='concavity_worst', ylabel='concavity_se'>,\n",
       "        <AxesSubplot:xlabel='concavity_se', ylabel='concavity_se'>,\n",
       "        <AxesSubplot:xlabel='texture_mean', ylabel='concavity_se'>],\n",
       "       [<AxesSubplot:xlabel='area_mean', ylabel='texture_mean'>,\n",
       "        <AxesSubplot:xlabel='concavity_mean', ylabel='texture_mean'>,\n",
       "        <AxesSubplot:xlabel='area_se', ylabel='texture_mean'>,\n",
       "        <AxesSubplot:xlabel='area_worst', ylabel='texture_mean'>,\n",
       "        <AxesSubplot:xlabel='concavity_worst', ylabel='texture_mean'>,\n",
       "        <AxesSubplot:xlabel='concavity_se', ylabel='texture_mean'>,\n",
       "        <AxesSubplot:xlabel='texture_mean', ylabel='texture_mean'>]],\n",
       "      dtype=object)"
      ]
     },
     "execution_count": 15,
     "metadata": {},
     "output_type": "execute_result"
    },
    {
     "data": {
      "image/png": "[encoded data removed]",
      "text/plain": [
       "<Figure size 864x720 with 49 Axes>"
      ]
     },
     "metadata": {
      "needs_background": "light"
     },
     "output_type": "display_data"
    }
   ],
   "source": [
    "#####################################Visualize correlation with the scatter_matrix()##################################\n",
    "pd.plotting.scatter_matrix(X[['area_mean','concavity_mean','area_se','area_worst','concavity_worst','concavity_se','texture_mean']],figsize = (12,10))"
   ]
  },
  {
   "cell_type": "code",
   "execution_count": 16,
   "id": "fafb9fea",
   "metadata": {},
   "outputs": [
    {
     "name": "stdout",
     "output_type": "stream",
     "text": [
      "Before Test/Train Split: (569, 30) (569,)\n"
     ]
    }
   ],
   "source": [
    "#Test / Train Split\n",
    "print(\"Before Test/Train Split:\", X.shape, y.shape)"
   ]
  },
  {
   "cell_type": "code",
   "execution_count": 17,
   "id": "08eef033",
   "metadata": {},
   "outputs": [],
   "source": [
    "################ train | test (Split data in 80/20 ratio for traing and testing) #################\n",
    "#from sklearn.model_selection import train_test_split\n",
    "Xtrain, Xtest, ytrain, ytest = train_test_split(X, y,\n",
    "                                                    test_size=0.20,\n",
    "                                                    random_state=42)"
   ]
  },
  {
   "cell_type": "code",
   "execution_count": 18,
   "id": "53aa48f0",
   "metadata": {},
   "outputs": [
    {
     "name": "stdout",
     "output_type": "stream",
     "text": [
      "After Test / Train Split: (455, 30) (114, 30) 455 114\n"
     ]
    }
   ],
   "source": [
    "print(\"After Test / Train Split:\", Xtrain.shape, Xtest.shape,ytrain.size, ytest.size)"
   ]
  },
  {
   "cell_type": "code",
   "execution_count": 19,
   "id": "bd5d0a1b",
   "metadata": {
    "execution": {
     "iopub.execute_input": "2022-11-06T10:10:52.116204Z",
     "iopub.status.busy": "2022-11-06T10:10:52.115833Z",
     "iopub.status.idle": "2022-11-06T10:10:52.128759Z",
     "shell.execute_reply": "2022-11-06T10:10:52.127593Z"
    },
    "papermill": {
     "duration": 0.029241,
     "end_time": "2022-11-06T10:10:52.131236",
     "exception": false,
     "start_time": "2022-11-06T10:10:52.101995",
     "status": "completed"
    },
    "tags": []
   },
   "outputs": [],
   "source": [
    "######################### Prepare Data for ML Algorithms: scaling data ######################\n",
    "# Since this is classification problem will be using Standardization (how many standard deviation value is away from mean) \n",
    "\n",
    "#from sklearn.preprocessing import StandardScaler\n",
    "scaler = StandardScaler()\n",
    "scaled_Xtrain = scaler.fit_transform(Xtrain)\n",
    "scaled_Xtest = scaler.transform(Xtest)\n",
    "X_mean = scaler.mean_\n",
    "X_std = scaler.scale_"
   ]
  },
  {
   "cell_type": "code",
   "execution_count": 20,
   "id": "27a9f0c0",
   "metadata": {},
   "outputs": [
    {
     "data": {
      "text/plain": [
       "(array([1.41176352e+01, 1.91850330e+01, 9.18822418e+01, 6.54377582e+02,\n",
       "        9.57440220e-02, 1.03619319e-01, 8.88981451e-02, 4.82798703e-02,\n",
       "        1.81098681e-01, 6.27567692e-02, 4.02015824e-01, 1.20268681e+00,\n",
       "        2.85825341e+00, 4.00712989e+01, 6.98907473e-03, 2.56354484e-02,\n",
       "        3.28236723e-02, 1.18939407e-02, 2.05735121e-02, 3.82045560e-03,\n",
       "        1.62351033e+01, 2.55356923e+01, 1.07103121e+02, 8.76987033e+02,\n",
       "        1.31532132e-01, 2.52741802e-01, 2.74594569e-01, 1.14182222e-01,\n",
       "        2.90502198e-01, 8.38678462e-02]),\n",
       " array([3.53192761e+00, 4.26131404e+00, 2.42952845e+01, 3.54552925e+02,\n",
       "        1.39076981e-02, 5.24128055e-02, 7.93805091e-02, 3.80183541e-02,\n",
       "        2.74570850e-02, 7.20178506e-03, 2.82849558e-01, 5.41151676e-01,\n",
       "        2.06893139e+00, 4.71843820e+01, 3.05347371e-03, 1.85862970e-02,\n",
       "        3.21102454e-02, 6.28718721e-03, 8.16296642e-03, 2.78406874e-03,\n",
       "        4.80597715e+00, 6.05843964e+00, 3.33379686e+01, 5.67048681e+02,\n",
       "        2.30571257e-02, 1.54843847e-01, 2.09167861e-01, 6.52542583e-02,\n",
       "        6.30817958e-02, 1.78282760e-02]))"
      ]
     },
     "execution_count": 20,
     "metadata": {},
     "output_type": "execute_result"
    }
   ],
   "source": [
    "#scaled_X_train,scaled_X_test\n",
    "X_mean,X_std\n"
   ]
  },
  {
   "cell_type": "code",
   "execution_count": 21,
   "id": "9637fe42",
   "metadata": {
    "scrolled": true
   },
   "outputs": [
    {
     "data": {
      "image/png": "[encoded data removed]",
      "text/plain": [
       "<Figure size 1440x1080 with 30 Axes>"
      ]
     },
     "metadata": {
      "needs_background": "light"
     },
     "output_type": "display_data"
    }
   ],
   "source": [
    "########## View Scaled Data #############\n",
    "\n",
    "data=pd.DataFrame(scaled_Xtrain)\n",
    "#data.describe()\n",
    "data.hist(bins=50, figsize=(20,15))\n",
    "plt.show()\n",
    "\n"
   ]
  },
  {
   "cell_type": "markdown",
   "id": "2d076c79",
   "metadata": {
    "papermill": {
     "duration": 0.011759,
     "end_time": "2022-11-06T10:10:52.155188",
     "exception": false,
     "start_time": "2022-11-06T10:10:52.143429",
     "status": "completed"
    },
    "tags": []
   },
   "source": [
    "# Exploring Models\n",
    "####################################################################################################################\n",
    "## Performance Measures:\n",
    "####################################################################################################################\n",
    "\n",
    " Since this is a classification problem - will be using accuracy, f1 score, precision and recall along with confusion matrix\n",
    "####################################################################################################################"
   ]
  },
  {
   "cell_type": "markdown",
   "id": "c0ef48c1",
   "metadata": {
    "papermill": {
     "duration": 0.011759,
     "end_time": "2022-11-06T10:10:52.155188",
     "exception": false,
     "start_time": "2022-11-06T10:10:52.143429",
     "status": "completed"
    },
    "tags": []
   },
   "source": [
    "# 1. Random Forest Classifier"
   ]
  },
  {
   "cell_type": "code",
   "execution_count": 22,
   "id": "a7327dd0",
   "metadata": {
    "execution": {
     "iopub.execute_input": "2022-11-06T10:10:52.449068Z",
     "iopub.status.busy": "2022-11-06T10:10:52.448633Z",
     "iopub.status.idle": "2022-11-06T10:10:52.455133Z",
     "shell.execute_reply": "2022-11-06T10:10:52.453901Z"
    },
    "papermill": {
     "duration": 0.02673,
     "end_time": "2022-11-06T10:10:52.457760",
     "exception": false,
     "start_time": "2022-11-06T10:10:52.431030",
     "status": "completed"
    },
    "tags": []
   },
   "outputs": [],
   "source": [
    "# creating the parameter grid\n",
    "n_estimators = [100, 200, 300]\n",
    "max_features = [5 ,10, 15, 20]\n",
    "bootstrap = [True, False]\n",
    "oob_score = [True, False]\n",
    "criterion = ['gini', 'entropy', 'log_loss']\n",
    "\n",
    "param_grid = {'n_estimators':n_estimators,\n",
    "             'max_features':max_features,\n",
    "             'bootstrap':bootstrap,\n",
    "             'oob_score':oob_score,\n",
    "             'criterion':criterion}"
   ]
  },
  {
   "cell_type": "code",
   "execution_count": 23,
   "id": "8551df42",
   "metadata": {
    "execution": {
     "iopub.execute_input": "2022-11-06T10:10:52.489719Z",
     "iopub.status.busy": "2022-11-06T10:10:52.488922Z",
     "iopub.status.idle": "2022-11-06T10:10:52.494376Z",
     "shell.execute_reply": "2022-11-06T10:10:52.493592Z"
    },
    "papermill": {
     "duration": 0.021748,
     "end_time": "2022-11-06T10:10:52.496809",
     "exception": false,
     "start_time": "2022-11-06T10:10:52.475061",
     "status": "completed"
    },
    "tags": []
   },
   "outputs": [],
   "source": [
    "# creating instances\n",
    "rdfc = RandomForestClassifier(random_state=42)\n",
    "grid = GridSearchCV(rdfc, param_grid)"
   ]
  },
  {
   "cell_type": "code",
   "execution_count": 24,
   "id": "b59f1e36",
   "metadata": {
    "execution": {
     "iopub.execute_input": "2022-11-06T10:10:52.526879Z",
     "iopub.status.busy": "2022-11-06T10:10:52.526086Z",
     "iopub.status.idle": "2022-11-06T10:14:18.664446Z",
     "shell.execute_reply": "2022-11-06T10:14:18.662925Z"
    },
    "papermill": {
     "duration": 206.167638,
     "end_time": "2022-11-06T10:14:18.679979",
     "exception": false,
     "start_time": "2022-11-06T10:10:52.512341",
     "status": "completed"
    },
    "tags": []
   },
   "outputs": [
    {
     "data": {
      "text/html": [
       "<style>#sk-container-id-1 {color: black;background-color: white;}#sk-container-id-1 pre{padding: 0;}#sk-container-id-1 div.sk-toggleable {background-color: white;}#sk-container-id-1 label.sk-toggleable__label {cursor: pointer;display: block;width: 100%;margin-bottom: 0;padding: 0.3em;box-sizing: border-box;text-align: center;}#sk-container-id-1 label.sk-toggleable__label-arrow:before {content: \"▸\";float: left;margin-right: 0.25em;color: #696969;}#sk-container-id-1 label.sk-toggleable__label-arrow:hover:before {color: black;}#sk-container-id-1 div.sk-estimator:hover label.sk-toggleable__label-arrow:before {color: black;}#sk-container-id-1 div.sk-toggleable__content {max-height: 0;max-width: 0;overflow: hidden;text-align: left;background-color: #f0f8ff;}#sk-container-id-1 div.sk-toggleable__content pre {margin: 0.2em;color: black;border-radius: 0.25em;background-color: #f0f8ff;}#sk-container-id-1 input.sk-toggleable__control:checked~div.sk-toggleable__content {max-height: 200px;max-width: 100%;overflow: auto;}#sk-container-id-1 input.sk-toggleable__control:checked~label.sk-toggleable__label-arrow:before {content: \"▾\";}#sk-container-id-1 div.sk-estimator input.sk-toggleable__control:checked~label.sk-toggleable__label {background-color: #d4ebff;}#sk-container-id-1 div.sk-label input.sk-toggleable__control:checked~label.sk-toggleable__label {background-color: #d4ebff;}#sk-container-id-1 input.sk-hidden--visually {border: 0;clip: rect(1px 1px 1px 1px);clip: rect(1px, 1px, 1px, 1px);height: 1px;margin: -1px;overflow: hidden;padding: 0;position: absolute;width: 1px;}#sk-container-id-1 div.sk-estimator {font-family: monospace;background-color: #f0f8ff;border: 1px dotted black;border-radius: 0.25em;box-sizing: border-box;margin-bottom: 0.5em;}#sk-container-id-1 div.sk-estimator:hover {background-color: #d4ebff;}#sk-container-id-1 div.sk-parallel-item::after {content: \"\";width: 100%;border-bottom: 1px solid gray;flex-grow: 1;}#sk-container-id-1 div.sk-label:hover label.sk-toggleable__label {background-color: #d4ebff;}#sk-container-id-1 div.sk-serial::before {content: \"\";position: absolute;border-left: 1px solid gray;box-sizing: border-box;top: 0;bottom: 0;left: 50%;z-index: 0;}#sk-container-id-1 div.sk-serial {display: flex;flex-direction: column;align-items: center;background-color: white;padding-right: 0.2em;padding-left: 0.2em;position: relative;}#sk-container-id-1 div.sk-item {position: relative;z-index: 1;}#sk-container-id-1 div.sk-parallel {display: flex;align-items: stretch;justify-content: center;background-color: white;position: relative;}#sk-container-id-1 div.sk-item::before, #sk-container-id-1 div.sk-parallel-item::before {content: \"\";position: absolute;border-left: 1px solid gray;box-sizing: border-box;top: 0;bottom: 0;left: 50%;z-index: -1;}#sk-container-id-1 div.sk-parallel-item {display: flex;flex-direction: column;z-index: 1;position: relative;background-color: white;}#sk-container-id-1 div.sk-parallel-item:first-child::after {align-self: flex-end;width: 50%;}#sk-container-id-1 div.sk-parallel-item:last-child::after {align-self: flex-start;width: 50%;}#sk-container-id-1 div.sk-parallel-item:only-child::after {width: 0;}#sk-container-id-1 div.sk-dashed-wrapped {border: 1px dashed gray;margin: 0 0.4em 0.5em 0.4em;box-sizing: border-box;padding-bottom: 0.4em;background-color: white;}#sk-container-id-1 div.sk-label label {font-family: monospace;font-weight: bold;display: inline-block;line-height: 1.2em;}#sk-container-id-1 div.sk-label-container {text-align: center;}#sk-container-id-1 div.sk-container {/* jupyter's `normalize.less` sets `[hidden] { display: none; }` but bootstrap.min.css set `[hidden] { display: none !important; }` so we also need the `!important` here to be able to override the default hidden behavior on the sphinx rendered scikit-learn.org. See: https://github.com/scikit-learn/scikit-learn/issues/21755 */display: inline-block !important;position: relative;}#sk-container-id-1 div.sk-text-repr-fallback {display: none;}</style><div id=\"sk-container-id-1\" class=\"sk-top-container\"><div class=\"sk-text-repr-fallback\"><pre>GridSearchCV(estimator=RandomForestClassifier(random_state=42),\n",
       "             param_grid={&#x27;bootstrap&#x27;: [True, False],\n",
       "                         &#x27;criterion&#x27;: [&#x27;gini&#x27;, &#x27;entropy&#x27;, &#x27;log_loss&#x27;],\n",
       "                         &#x27;max_features&#x27;: [5, 10, 15, 20],\n",
       "                         &#x27;n_estimators&#x27;: [100, 200, 300],\n",
       "                         &#x27;oob_score&#x27;: [True, False]})</pre><b>In a Jupyter environment, please rerun this cell to show the HTML representation or trust the notebook. <br />On GitHub, the HTML representation is unable to render, please try loading this page with nbviewer.org.</b></div><div class=\"sk-container\" hidden><div class=\"sk-item sk-dashed-wrapped\"><div class=\"sk-label-container\"><div class=\"sk-label sk-toggleable\"><input class=\"sk-toggleable__control sk-hidden--visually\" id=\"sk-estimator-id-1\" type=\"checkbox\" ><label for=\"sk-estimator-id-1\" class=\"sk-toggleable__label sk-toggleable__label-arrow\">GridSearchCV</label><div class=\"sk-toggleable__content\"><pre>GridSearchCV(estimator=RandomForestClassifier(random_state=42),\n",
       "             param_grid={&#x27;bootstrap&#x27;: [True, False],\n",
       "                         &#x27;criterion&#x27;: [&#x27;gini&#x27;, &#x27;entropy&#x27;, &#x27;log_loss&#x27;],\n",
       "                         &#x27;max_features&#x27;: [5, 10, 15, 20],\n",
       "                         &#x27;n_estimators&#x27;: [100, 200, 300],\n",
       "                         &#x27;oob_score&#x27;: [True, False]})</pre></div></div></div><div class=\"sk-parallel\"><div class=\"sk-parallel-item\"><div class=\"sk-item\"><div class=\"sk-label-container\"><div class=\"sk-label sk-toggleable\"><input class=\"sk-toggleable__control sk-hidden--visually\" id=\"sk-estimator-id-2\" type=\"checkbox\" ><label for=\"sk-estimator-id-2\" class=\"sk-toggleable__label sk-toggleable__label-arrow\">estimator: RandomForestClassifier</label><div class=\"sk-toggleable__content\"><pre>RandomForestClassifier(random_state=42)</pre></div></div></div><div class=\"sk-serial\"><div class=\"sk-item\"><div class=\"sk-estimator sk-toggleable\"><input class=\"sk-toggleable__control sk-hidden--visually\" id=\"sk-estimator-id-3\" type=\"checkbox\" ><label for=\"sk-estimator-id-3\" class=\"sk-toggleable__label sk-toggleable__label-arrow\">RandomForestClassifier</label><div class=\"sk-toggleable__content\"><pre>RandomForestClassifier(random_state=42)</pre></div></div></div></div></div></div></div></div></div></div>"
      ],
      "text/plain": [
       "GridSearchCV(estimator=RandomForestClassifier(random_state=42),\n",
       "             param_grid={'bootstrap': [True, False],\n",
       "                         'criterion': ['gini', 'entropy', 'log_loss'],\n",
       "                         'max_features': [5, 10, 15, 20],\n",
       "                         'n_estimators': [100, 200, 300],\n",
       "                         'oob_score': [True, False]})"
      ]
     },
     "execution_count": 24,
     "metadata": {},
     "output_type": "execute_result"
    }
   ],
   "source": [
    "# fit on model\n",
    "grid.fit(scaled_Xtrain,ytrain)"
   ]
  },
  {
   "cell_type": "code",
   "execution_count": 25,
   "id": "98e1c700",
   "metadata": {
    "execution": {
     "iopub.execute_input": "2022-11-06T10:14:18.706676Z",
     "iopub.status.busy": "2022-11-06T10:14:18.706278Z",
     "iopub.status.idle": "2022-11-06T10:14:18.713764Z",
     "shell.execute_reply": "2022-11-06T10:14:18.712500Z"
    },
    "papermill": {
     "duration": 0.023689,
     "end_time": "2022-11-06T10:14:18.716226",
     "exception": false,
     "start_time": "2022-11-06T10:14:18.692537",
     "status": "completed"
    },
    "tags": []
   },
   "outputs": [
    {
     "data": {
      "text/plain": [
       "{'bootstrap': True,\n",
       " 'criterion': 'entropy',\n",
       " 'max_features': 5,\n",
       " 'n_estimators': 100,\n",
       " 'oob_score': True}"
      ]
     },
     "execution_count": 25,
     "metadata": {},
     "output_type": "execute_result"
    }
   ],
   "source": [
    "# the best parameters\n",
    "grid.best_params_"
   ]
  },
  {
   "cell_type": "code",
   "execution_count": 26,
   "id": "12bec33f",
   "metadata": {
    "execution": {
     "iopub.execute_input": "2022-11-06T10:14:18.743878Z",
     "iopub.status.busy": "2022-11-06T10:14:18.742631Z",
     "iopub.status.idle": "2022-11-06T10:14:18.777367Z",
     "shell.execute_reply": "2022-11-06T10:14:18.776056Z"
    },
    "papermill": {
     "duration": 0.051326,
     "end_time": "2022-11-06T10:14:18.780148",
     "exception": false,
     "start_time": "2022-11-06T10:14:18.728822",
     "status": "completed"
    },
    "tags": []
   },
   "outputs": [],
   "source": [
    "# y predictions\n",
    "ypred = grid.predict(scaled_Xtest)"
   ]
  },
  {
   "cell_type": "code",
   "execution_count": 27,
   "id": "3b52a1af",
   "metadata": {},
   "outputs": [
    {
     "data": {
      "text/plain": [
       "array(['B', 'M', 'M', 'B', 'B', 'M', 'M', 'M', 'M', 'B', 'B', 'M', 'B',\n",
       "       'M', 'B', 'M', 'B', 'B', 'B', 'M', 'B', 'B', 'M', 'B', 'B', 'B',\n",
       "       'B', 'B', 'B', 'M', 'B', 'B', 'B', 'B', 'B', 'B', 'M', 'B', 'M',\n",
       "       'B', 'B', 'M', 'B', 'B', 'B', 'B', 'B', 'B', 'B', 'B', 'M', 'M',\n",
       "       'B', 'B', 'B', 'B', 'B', 'M', 'M', 'B', 'B', 'M', 'M', 'B', 'B',\n",
       "       'B', 'M', 'M', 'B', 'B', 'M', 'M', 'B', 'M', 'B', 'B', 'B', 'B',\n",
       "       'B', 'B', 'M', 'B', 'B', 'M', 'M', 'M', 'M', 'M', 'B', 'B', 'B',\n",
       "       'B', 'B', 'B', 'B', 'B', 'M', 'M', 'B', 'M', 'M', 'B', 'M', 'M',\n",
       "       'B', 'B', 'B', 'M', 'B', 'B', 'M', 'B', 'B', 'M'], dtype=object)"
      ]
     },
     "execution_count": 27,
     "metadata": {},
     "output_type": "execute_result"
    }
   ],
   "source": [
    "ypred"
   ]
  },
  {
   "cell_type": "code",
   "execution_count": 28,
   "id": "abab10dc",
   "metadata": {
    "execution": {
     "iopub.execute_input": "2022-11-06T10:14:18.841314Z",
     "iopub.status.busy": "2022-11-06T10:14:18.840919Z",
     "iopub.status.idle": "2022-11-06T10:14:18.857649Z",
     "shell.execute_reply": "2022-11-06T10:14:18.856445Z"
    },
    "papermill": {
     "duration": 0.033133,
     "end_time": "2022-11-06T10:14:18.860177",
     "exception": false,
     "start_time": "2022-11-06T10:14:18.827044",
     "status": "completed"
    },
    "tags": []
   },
   "outputs": [
    {
     "name": "stdout",
     "output_type": "stream",
     "text": [
      "              precision    recall  f1-score   support\n",
      "\n",
      "           B       0.96      0.99      0.97        71\n",
      "           M       0.98      0.93      0.95        43\n",
      "\n",
      "    accuracy                           0.96       114\n",
      "   macro avg       0.97      0.96      0.96       114\n",
      "weighted avg       0.97      0.96      0.96       114\n",
      "\n"
     ]
    }
   ],
   "source": [
    "# classification report ----> accuracy, f1 score, precision and recall\n",
    "print(classification_report(ytest,ypred))"
   ]
  },
  {
   "cell_type": "code",
   "execution_count": 29,
   "id": "4d6718da",
   "metadata": {
    "execution": {
     "iopub.execute_input": "2022-11-06T10:14:18.886894Z",
     "iopub.status.busy": "2022-11-06T10:14:18.886458Z",
     "iopub.status.idle": "2022-11-06T10:14:19.137635Z",
     "shell.execute_reply": "2022-11-06T10:14:19.136190Z"
    },
    "papermill": {
     "duration": 0.267383,
     "end_time": "2022-11-06T10:14:19.140258",
     "exception": false,
     "start_time": "2022-11-06T10:14:18.872875",
     "status": "completed"
    },
    "tags": []
   },
   "outputs": [
    {
     "data": {
      "text/plain": [
       "<sklearn.metrics._plot.confusion_matrix.ConfusionMatrixDisplay at 0x1f979df7100>"
      ]
     },
     "execution_count": 29,
     "metadata": {},
     "output_type": "execute_result"
    },
    {
     "data": {
      "image/png": "[encoded data removed]",
      "text/plain": [
       "<Figure size 432x288 with 2 Axes>"
      ]
     },
     "metadata": {
      "needs_background": "light"
     },
     "output_type": "display_data"
    }
   ],
   "source": [
    "# plotting confusion matrix\n",
    "ConfusionMatrixDisplay.from_estimator(grid,scaled_Xtest,ytest)\n"
   ]
  },
  {
   "cell_type": "code",
   "execution_count": 30,
   "id": "adc9d687",
   "metadata": {
    "execution": {
     "iopub.execute_input": "2022-11-06T10:14:19.168836Z",
     "iopub.status.busy": "2022-11-06T10:14:19.167521Z",
     "iopub.status.idle": "2022-11-06T10:14:19.173629Z",
     "shell.execute_reply": "2022-11-06T10:14:19.172455Z"
    },
    "papermill": {
     "duration": 0.023178,
     "end_time": "2022-11-06T10:14:19.176410",
     "exception": false,
     "start_time": "2022-11-06T10:14:19.153232",
     "status": "completed"
    },
    "tags": []
   },
   "outputs": [],
   "source": [
    "#######################Finish Random Forest Classifier########################"
   ]
  },
  {
   "cell_type": "markdown",
   "id": "5040136a",
   "metadata": {
    "papermill": {
     "duration": 0.014067,
     "end_time": "2022-11-06T10:14:24.147500",
     "exception": false,
     "start_time": "2022-11-06T10:14:24.133433",
     "status": "completed"
    },
    "tags": []
   },
   "source": [
    "# 2. Stochastic Gradient Descent (SGD) Classification "
   ]
  },
  {
   "cell_type": "code",
   "execution_count": 31,
   "id": "772a9be6",
   "metadata": {
    "papermill": {
     "duration": 0.014041,
     "end_time": "2022-11-06T10:14:24.176059",
     "exception": false,
     "start_time": "2022-11-06T10:14:24.162018",
     "status": "completed"
    },
    "tags": []
   },
   "outputs": [
    {
     "name": "stdout",
     "output_type": "stream",
     "text": [
      "SGDClassifier(tol=0.01)\n",
      "Training Score:  0.9626373626373627\n"
     ]
    }
   ],
   "source": [
    "sgdc = SGDClassifier(max_iter=1000, tol=0.01)\n",
    "print(sgdc)\n",
    "sgdc.fit(scaled_Xtrain, ytrain)\n",
    "score = sgdc.score(scaled_Xtrain, ytrain)\n",
    "print(\"Training Score: \", score)\n"
   ]
  },
  {
   "cell_type": "code",
   "execution_count": 32,
   "id": "1db0785d",
   "metadata": {},
   "outputs": [
    {
     "name": "stdout",
     "output_type": "stream",
     "text": [
      "              precision    recall  f1-score   support\n",
      "\n",
      "           B       0.97      0.94      0.96        71\n",
      "           M       0.91      0.95      0.93        43\n",
      "\n",
      "    accuracy                           0.95       114\n",
      "   macro avg       0.94      0.95      0.94       114\n",
      "weighted avg       0.95      0.95      0.95       114\n",
      "\n"
     ]
    }
   ],
   "source": [
    "ypred2 = sgdc.predict(scaled_Xtest)\n",
    "\n",
    "# classification report ----> accuracy, f1 score, precision and recall\n",
    "cr = classification_report(ytest, ypred2)\n",
    "print(cr) "
   ]
  },
  {
   "cell_type": "code",
   "execution_count": 33,
   "id": "7f07af0b",
   "metadata": {},
   "outputs": [
    {
     "name": "stdout",
     "output_type": "stream",
     "text": [
      "<sklearn.metrics._plot.confusion_matrix.ConfusionMatrixDisplay object at 0x000001F97BD4DA30>\n"
     ]
    },
    {
     "data": {
      "image/png": "[encoded data removed]",
      "text/plain": [
       "<Figure size 432x288 with 2 Axes>"
      ]
     },
     "metadata": {
      "needs_background": "light"
     },
     "output_type": "display_data"
    }
   ],
   "source": [
    "# plotting confusion matrix\n",
    "cm = ConfusionMatrixDisplay.from_estimator(sgdc,scaled_Xtest,ytest)\n",
    "print(cm)"
   ]
  },
  {
   "cell_type": "code",
   "execution_count": 34,
   "id": "e1d21aa1",
   "metadata": {},
   "outputs": [],
   "source": [
    "#######################Finish SGD Classifier########################"
   ]
  },
  {
   "cell_type": "markdown",
   "id": "23412ff7",
   "metadata": {
    "papermill": {
     "duration": 0.013053,
     "end_time": "2022-11-06T10:14:20.330691",
     "exception": false,
     "start_time": "2022-11-06T10:14:20.317638",
     "status": "completed"
    },
    "tags": []
   },
   "source": [
    "# 4. KNN Classifier"
   ]
  },
  {
   "cell_type": "code",
   "execution_count": 35,
   "id": "3ce4d487",
   "metadata": {
    "execution": {
     "iopub.execute_input": "2022-11-06T10:14:20.359152Z",
     "iopub.status.busy": "2022-11-06T10:14:20.358777Z",
     "iopub.status.idle": "2022-11-06T10:14:20.363995Z",
     "shell.execute_reply": "2022-11-06T10:14:20.362781Z"
    },
    "papermill": {
     "duration": 0.02219,
     "end_time": "2022-11-06T10:14:20.366223",
     "exception": false,
     "start_time": "2022-11-06T10:14:20.344033",
     "status": "completed"
    },
    "tags": []
   },
   "outputs": [],
   "source": [
    "#from sklearn.neighbors import KNeighborsClassifier"
   ]
  },
  {
   "cell_type": "code",
   "execution_count": 36,
   "id": "a96e5a6a",
   "metadata": {
    "execution": {
     "iopub.execute_input": "2022-11-06T10:14:20.394485Z",
     "iopub.status.busy": "2022-11-06T10:14:20.394116Z",
     "iopub.status.idle": "2022-11-06T10:14:20.399033Z",
     "shell.execute_reply": "2022-11-06T10:14:20.398017Z"
    },
    "papermill": {
     "duration": 0.021691,
     "end_time": "2022-11-06T10:14:20.401301",
     "exception": false,
     "start_time": "2022-11-06T10:14:20.379610",
     "status": "completed"
    },
    "tags": []
   },
   "outputs": [],
   "source": [
    "k_values = list(range(1,20))"
   ]
  },
  {
   "cell_type": "code",
   "execution_count": 37,
   "id": "2730d630",
   "metadata": {
    "execution": {
     "iopub.execute_input": "2022-11-06T10:14:20.429713Z",
     "iopub.status.busy": "2022-11-06T10:14:20.429294Z",
     "iopub.status.idle": "2022-11-06T10:14:20.433812Z",
     "shell.execute_reply": "2022-11-06T10:14:20.432949Z"
    },
    "papermill": {
     "duration": 0.021273,
     "end_time": "2022-11-06T10:14:20.435928",
     "exception": false,
     "start_time": "2022-11-06T10:14:20.414655",
     "status": "completed"
    },
    "tags": []
   },
   "outputs": [],
   "source": [
    "knn = KNeighborsClassifier()"
   ]
  },
  {
   "cell_type": "code",
   "execution_count": 38,
   "id": "7e9e1a7a",
   "metadata": {
    "execution": {
     "iopub.execute_input": "2022-11-06T10:14:20.464948Z",
     "iopub.status.busy": "2022-11-06T10:14:20.464502Z",
     "iopub.status.idle": "2022-11-06T10:14:20.468702Z",
     "shell.execute_reply": "2022-11-06T10:14:20.467755Z"
    },
    "papermill": {
     "duration": 0.021247,
     "end_time": "2022-11-06T10:14:20.470945",
     "exception": false,
     "start_time": "2022-11-06T10:14:20.449698",
     "status": "completed"
    },
    "tags": []
   },
   "outputs": [],
   "source": [
    "operations = [('scaler',scaler),('knn',knn)]"
   ]
  },
  {
   "cell_type": "code",
   "execution_count": 39,
   "id": "bd6d163f",
   "metadata": {
    "execution": {
     "iopub.execute_input": "2022-11-06T10:14:20.499314Z",
     "iopub.status.busy": "2022-11-06T10:14:20.498908Z",
     "iopub.status.idle": "2022-11-06T10:14:20.503780Z",
     "shell.execute_reply": "2022-11-06T10:14:20.502690Z"
    },
    "papermill": {
     "duration": 0.022054,
     "end_time": "2022-11-06T10:14:20.506326",
     "exception": false,
     "start_time": "2022-11-06T10:14:20.484272",
     "status": "completed"
    },
    "tags": []
   },
   "outputs": [],
   "source": [
    "param_grid2 = {'knn__n_neighbors': k_values}"
   ]
  },
  {
   "cell_type": "code",
   "execution_count": 40,
   "id": "28fdcb58",
   "metadata": {
    "execution": {
     "iopub.execute_input": "2022-11-06T10:14:20.535091Z",
     "iopub.status.busy": "2022-11-06T10:14:20.534692Z",
     "iopub.status.idle": "2022-11-06T10:14:20.541866Z",
     "shell.execute_reply": "2022-11-06T10:14:20.540805Z"
    },
    "papermill": {
     "duration": 0.024395,
     "end_time": "2022-11-06T10:14:20.544279",
     "exception": false,
     "start_time": "2022-11-06T10:14:20.519884",
     "status": "completed"
    },
    "tags": []
   },
   "outputs": [],
   "source": [
    "# creating pipeline\n",
    "from sklearn.pipeline import Pipeline\n",
    "pipe = Pipeline(operations)"
   ]
  },
  {
   "cell_type": "code",
   "execution_count": 41,
   "id": "8677bd4a",
   "metadata": {
    "execution": {
     "iopub.execute_input": "2022-11-06T10:14:20.573362Z",
     "iopub.status.busy": "2022-11-06T10:14:20.572971Z",
     "iopub.status.idle": "2022-11-06T10:14:20.578437Z",
     "shell.execute_reply": "2022-11-06T10:14:20.577380Z"
    },
    "papermill": {
     "duration": 0.022665,
     "end_time": "2022-11-06T10:14:20.580980",
     "exception": false,
     "start_time": "2022-11-06T10:14:20.558315",
     "status": "completed"
    },
    "tags": []
   },
   "outputs": [],
   "source": [
    "full_cv_classifier = GridSearchCV(pipe,param_grid2,cv=5,scoring='accuracy')"
   ]
  },
  {
   "cell_type": "code",
   "execution_count": 42,
   "id": "984d35d0",
   "metadata": {
    "execution": {
     "iopub.execute_input": "2022-11-06T10:14:20.610095Z",
     "iopub.status.busy": "2022-11-06T10:14:20.609673Z",
     "iopub.status.idle": "2022-11-06T10:14:22.854045Z",
     "shell.execute_reply": "2022-11-06T10:14:22.852906Z"
    },
    "papermill": {
     "duration": 2.263288,
     "end_time": "2022-11-06T10:14:22.857825",
     "exception": false,
     "start_time": "2022-11-06T10:14:20.594537",
     "status": "completed"
    },
    "tags": []
   },
   "outputs": [
    {
     "data": {
      "text/html": [
       "<style>#sk-container-id-2 {color: black;background-color: white;}#sk-container-id-2 pre{padding: 0;}#sk-container-id-2 div.sk-toggleable {background-color: white;}#sk-container-id-2 label.sk-toggleable__label {cursor: pointer;display: block;width: 100%;margin-bottom: 0;padding: 0.3em;box-sizing: border-box;text-align: center;}#sk-container-id-2 label.sk-toggleable__label-arrow:before {content: \"▸\";float: left;margin-right: 0.25em;color: #696969;}#sk-container-id-2 label.sk-toggleable__label-arrow:hover:before {color: black;}#sk-container-id-2 div.sk-estimator:hover label.sk-toggleable__label-arrow:before {color: black;}#sk-container-id-2 div.sk-toggleable__content {max-height: 0;max-width: 0;overflow: hidden;text-align: left;background-color: #f0f8ff;}#sk-container-id-2 div.sk-toggleable__content pre {margin: 0.2em;color: black;border-radius: 0.25em;background-color: #f0f8ff;}#sk-container-id-2 input.sk-toggleable__control:checked~div.sk-toggleable__content {max-height: 200px;max-width: 100%;overflow: auto;}#sk-container-id-2 input.sk-toggleable__control:checked~label.sk-toggleable__label-arrow:before {content: \"▾\";}#sk-container-id-2 div.sk-estimator input.sk-toggleable__control:checked~label.sk-toggleable__label {background-color: #d4ebff;}#sk-container-id-2 div.sk-label input.sk-toggleable__control:checked~label.sk-toggleable__label {background-color: #d4ebff;}#sk-container-id-2 input.sk-hidden--visually {border: 0;clip: rect(1px 1px 1px 1px);clip: rect(1px, 1px, 1px, 1px);height: 1px;margin: -1px;overflow: hidden;padding: 0;position: absolute;width: 1px;}#sk-container-id-2 div.sk-estimator {font-family: monospace;background-color: #f0f8ff;border: 1px dotted black;border-radius: 0.25em;box-sizing: border-box;margin-bottom: 0.5em;}#sk-container-id-2 div.sk-estimator:hover {background-color: #d4ebff;}#sk-container-id-2 div.sk-parallel-item::after {content: \"\";width: 100%;border-bottom: 1px solid gray;flex-grow: 1;}#sk-container-id-2 div.sk-label:hover label.sk-toggleable__label {background-color: #d4ebff;}#sk-container-id-2 div.sk-serial::before {content: \"\";position: absolute;border-left: 1px solid gray;box-sizing: border-box;top: 0;bottom: 0;left: 50%;z-index: 0;}#sk-container-id-2 div.sk-serial {display: flex;flex-direction: column;align-items: center;background-color: white;padding-right: 0.2em;padding-left: 0.2em;position: relative;}#sk-container-id-2 div.sk-item {position: relative;z-index: 1;}#sk-container-id-2 div.sk-parallel {display: flex;align-items: stretch;justify-content: center;background-color: white;position: relative;}#sk-container-id-2 div.sk-item::before, #sk-container-id-2 div.sk-parallel-item::before {content: \"\";position: absolute;border-left: 1px solid gray;box-sizing: border-box;top: 0;bottom: 0;left: 50%;z-index: -1;}#sk-container-id-2 div.sk-parallel-item {display: flex;flex-direction: column;z-index: 1;position: relative;background-color: white;}#sk-container-id-2 div.sk-parallel-item:first-child::after {align-self: flex-end;width: 50%;}#sk-container-id-2 div.sk-parallel-item:last-child::after {align-self: flex-start;width: 50%;}#sk-container-id-2 div.sk-parallel-item:only-child::after {width: 0;}#sk-container-id-2 div.sk-dashed-wrapped {border: 1px dashed gray;margin: 0 0.4em 0.5em 0.4em;box-sizing: border-box;padding-bottom: 0.4em;background-color: white;}#sk-container-id-2 div.sk-label label {font-family: monospace;font-weight: bold;display: inline-block;line-height: 1.2em;}#sk-container-id-2 div.sk-label-container {text-align: center;}#sk-container-id-2 div.sk-container {/* jupyter's `normalize.less` sets `[hidden] { display: none; }` but bootstrap.min.css set `[hidden] { display: none !important; }` so we also need the `!important` here to be able to override the default hidden behavior on the sphinx rendered scikit-learn.org. See: https://github.com/scikit-learn/scikit-learn/issues/21755 */display: inline-block !important;position: relative;}#sk-container-id-2 div.sk-text-repr-fallback {display: none;}</style><div id=\"sk-container-id-2\" class=\"sk-top-container\"><div class=\"sk-text-repr-fallback\"><pre>GridSearchCV(cv=5,\n",
       "             estimator=Pipeline(steps=[(&#x27;scaler&#x27;, StandardScaler()),\n",
       "                                       (&#x27;knn&#x27;, KNeighborsClassifier())]),\n",
       "             param_grid={&#x27;knn__n_neighbors&#x27;: [1, 2, 3, 4, 5, 6, 7, 8, 9, 10, 11,\n",
       "                                              12, 13, 14, 15, 16, 17, 18, 19]},\n",
       "             scoring=&#x27;accuracy&#x27;)</pre><b>In a Jupyter environment, please rerun this cell to show the HTML representation or trust the notebook. <br />On GitHub, the HTML representation is unable to render, please try loading this page with nbviewer.org.</b></div><div class=\"sk-container\" hidden><div class=\"sk-item sk-dashed-wrapped\"><div class=\"sk-label-container\"><div class=\"sk-label sk-toggleable\"><input class=\"sk-toggleable__control sk-hidden--visually\" id=\"sk-estimator-id-4\" type=\"checkbox\" ><label for=\"sk-estimator-id-4\" class=\"sk-toggleable__label sk-toggleable__label-arrow\">GridSearchCV</label><div class=\"sk-toggleable__content\"><pre>GridSearchCV(cv=5,\n",
       "             estimator=Pipeline(steps=[(&#x27;scaler&#x27;, StandardScaler()),\n",
       "                                       (&#x27;knn&#x27;, KNeighborsClassifier())]),\n",
       "             param_grid={&#x27;knn__n_neighbors&#x27;: [1, 2, 3, 4, 5, 6, 7, 8, 9, 10, 11,\n",
       "                                              12, 13, 14, 15, 16, 17, 18, 19]},\n",
       "             scoring=&#x27;accuracy&#x27;)</pre></div></div></div><div class=\"sk-parallel\"><div class=\"sk-parallel-item\"><div class=\"sk-item\"><div class=\"sk-label-container\"><div class=\"sk-label sk-toggleable\"><input class=\"sk-toggleable__control sk-hidden--visually\" id=\"sk-estimator-id-5\" type=\"checkbox\" ><label for=\"sk-estimator-id-5\" class=\"sk-toggleable__label sk-toggleable__label-arrow\">estimator: Pipeline</label><div class=\"sk-toggleable__content\"><pre>Pipeline(steps=[(&#x27;scaler&#x27;, StandardScaler()), (&#x27;knn&#x27;, KNeighborsClassifier())])</pre></div></div></div><div class=\"sk-serial\"><div class=\"sk-item\"><div class=\"sk-serial\"><div class=\"sk-item\"><div class=\"sk-estimator sk-toggleable\"><input class=\"sk-toggleable__control sk-hidden--visually\" id=\"sk-estimator-id-6\" type=\"checkbox\" ><label for=\"sk-estimator-id-6\" class=\"sk-toggleable__label sk-toggleable__label-arrow\">StandardScaler</label><div class=\"sk-toggleable__content\"><pre>StandardScaler()</pre></div></div></div><div class=\"sk-item\"><div class=\"sk-estimator sk-toggleable\"><input class=\"sk-toggleable__control sk-hidden--visually\" id=\"sk-estimator-id-7\" type=\"checkbox\" ><label for=\"sk-estimator-id-7\" class=\"sk-toggleable__label sk-toggleable__label-arrow\">KNeighborsClassifier</label><div class=\"sk-toggleable__content\"><pre>KNeighborsClassifier()</pre></div></div></div></div></div></div></div></div></div></div></div></div>"
      ],
      "text/plain": [
       "GridSearchCV(cv=5,\n",
       "             estimator=Pipeline(steps=[('scaler', StandardScaler()),\n",
       "                                       ('knn', KNeighborsClassifier())]),\n",
       "             param_grid={'knn__n_neighbors': [1, 2, 3, 4, 5, 6, 7, 8, 9, 10, 11,\n",
       "                                              12, 13, 14, 15, 16, 17, 18, 19]},\n",
       "             scoring='accuracy')"
      ]
     },
     "execution_count": 42,
     "metadata": {},
     "output_type": "execute_result"
    }
   ],
   "source": [
    "full_cv_classifier.fit(Xtrain,ytrain)"
   ]
  },
  {
   "cell_type": "code",
   "execution_count": 43,
   "id": "fcb694cc",
   "metadata": {
    "execution": {
     "iopub.execute_input": "2022-11-06T10:14:22.929978Z",
     "iopub.status.busy": "2022-11-06T10:14:22.929276Z",
     "iopub.status.idle": "2022-11-06T10:14:22.942122Z",
     "shell.execute_reply": "2022-11-06T10:14:22.940996Z"
    },
    "papermill": {
     "duration": 0.052221,
     "end_time": "2022-11-06T10:14:22.944643",
     "exception": false,
     "start_time": "2022-11-06T10:14:22.892422",
     "status": "completed"
    },
    "tags": []
   },
   "outputs": [
    {
     "data": {
      "text/plain": [
       "<bound method Pipeline.get_params of Pipeline(steps=[('scaler', StandardScaler()), ('knn', KNeighborsClassifier())])>"
      ]
     },
     "execution_count": 43,
     "metadata": {},
     "output_type": "execute_result"
    }
   ],
   "source": [
    "full_cv_classifier.best_estimator_.get_params"
   ]
  },
  {
   "cell_type": "code",
   "execution_count": 44,
   "id": "3c0346b5",
   "metadata": {
    "execution": {
     "iopub.execute_input": "2022-11-06T10:14:23.004095Z",
     "iopub.status.busy": "2022-11-06T10:14:23.003397Z",
     "iopub.status.idle": "2022-11-06T10:14:23.009955Z",
     "shell.execute_reply": "2022-11-06T10:14:23.008587Z"
    },
    "papermill": {
     "duration": 0.027575,
     "end_time": "2022-11-06T10:14:23.012288",
     "exception": false,
     "start_time": "2022-11-06T10:14:22.984713",
     "status": "completed"
    },
    "tags": []
   },
   "outputs": [],
   "source": [
    "#Final Model\n",
    "knnc7 = KNeighborsClassifier(n_neighbors=7)\n",
    "operations2 = [('scaler',scaler),('knn7',knnc7)]\n",
    "pipe2 = Pipeline(operations2)"
   ]
  },
  {
   "cell_type": "code",
   "execution_count": 45,
   "id": "71bd2605",
   "metadata": {
    "execution": {
     "iopub.execute_input": "2022-11-06T10:14:23.050657Z",
     "iopub.status.busy": "2022-11-06T10:14:23.049484Z",
     "iopub.status.idle": "2022-11-06T10:14:23.066868Z",
     "shell.execute_reply": "2022-11-06T10:14:23.065431Z"
    },
    "papermill": {
     "duration": 0.043681,
     "end_time": "2022-11-06T10:14:23.070108",
     "exception": false,
     "start_time": "2022-11-06T10:14:23.026427",
     "status": "completed"
    },
    "tags": []
   },
   "outputs": [
    {
     "data": {
      "text/html": [
       "<style>#sk-container-id-3 {color: black;background-color: white;}#sk-container-id-3 pre{padding: 0;}#sk-container-id-3 div.sk-toggleable {background-color: white;}#sk-container-id-3 label.sk-toggleable__label {cursor: pointer;display: block;width: 100%;margin-bottom: 0;padding: 0.3em;box-sizing: border-box;text-align: center;}#sk-container-id-3 label.sk-toggleable__label-arrow:before {content: \"▸\";float: left;margin-right: 0.25em;color: #696969;}#sk-container-id-3 label.sk-toggleable__label-arrow:hover:before {color: black;}#sk-container-id-3 div.sk-estimator:hover label.sk-toggleable__label-arrow:before {color: black;}#sk-container-id-3 div.sk-toggleable__content {max-height: 0;max-width: 0;overflow: hidden;text-align: left;background-color: #f0f8ff;}#sk-container-id-3 div.sk-toggleable__content pre {margin: 0.2em;color: black;border-radius: 0.25em;background-color: #f0f8ff;}#sk-container-id-3 input.sk-toggleable__control:checked~div.sk-toggleable__content {max-height: 200px;max-width: 100%;overflow: auto;}#sk-container-id-3 input.sk-toggleable__control:checked~label.sk-toggleable__label-arrow:before {content: \"▾\";}#sk-container-id-3 div.sk-estimator input.sk-toggleable__control:checked~label.sk-toggleable__label {background-color: #d4ebff;}#sk-container-id-3 div.sk-label input.sk-toggleable__control:checked~label.sk-toggleable__label {background-color: #d4ebff;}#sk-container-id-3 input.sk-hidden--visually {border: 0;clip: rect(1px 1px 1px 1px);clip: rect(1px, 1px, 1px, 1px);height: 1px;margin: -1px;overflow: hidden;padding: 0;position: absolute;width: 1px;}#sk-container-id-3 div.sk-estimator {font-family: monospace;background-color: #f0f8ff;border: 1px dotted black;border-radius: 0.25em;box-sizing: border-box;margin-bottom: 0.5em;}#sk-container-id-3 div.sk-estimator:hover {background-color: #d4ebff;}#sk-container-id-3 div.sk-parallel-item::after {content: \"\";width: 100%;border-bottom: 1px solid gray;flex-grow: 1;}#sk-container-id-3 div.sk-label:hover label.sk-toggleable__label {background-color: #d4ebff;}#sk-container-id-3 div.sk-serial::before {content: \"\";position: absolute;border-left: 1px solid gray;box-sizing: border-box;top: 0;bottom: 0;left: 50%;z-index: 0;}#sk-container-id-3 div.sk-serial {display: flex;flex-direction: column;align-items: center;background-color: white;padding-right: 0.2em;padding-left: 0.2em;position: relative;}#sk-container-id-3 div.sk-item {position: relative;z-index: 1;}#sk-container-id-3 div.sk-parallel {display: flex;align-items: stretch;justify-content: center;background-color: white;position: relative;}#sk-container-id-3 div.sk-item::before, #sk-container-id-3 div.sk-parallel-item::before {content: \"\";position: absolute;border-left: 1px solid gray;box-sizing: border-box;top: 0;bottom: 0;left: 50%;z-index: -1;}#sk-container-id-3 div.sk-parallel-item {display: flex;flex-direction: column;z-index: 1;position: relative;background-color: white;}#sk-container-id-3 div.sk-parallel-item:first-child::after {align-self: flex-end;width: 50%;}#sk-container-id-3 div.sk-parallel-item:last-child::after {align-self: flex-start;width: 50%;}#sk-container-id-3 div.sk-parallel-item:only-child::after {width: 0;}#sk-container-id-3 div.sk-dashed-wrapped {border: 1px dashed gray;margin: 0 0.4em 0.5em 0.4em;box-sizing: border-box;padding-bottom: 0.4em;background-color: white;}#sk-container-id-3 div.sk-label label {font-family: monospace;font-weight: bold;display: inline-block;line-height: 1.2em;}#sk-container-id-3 div.sk-label-container {text-align: center;}#sk-container-id-3 div.sk-container {/* jupyter's `normalize.less` sets `[hidden] { display: none; }` but bootstrap.min.css set `[hidden] { display: none !important; }` so we also need the `!important` here to be able to override the default hidden behavior on the sphinx rendered scikit-learn.org. See: https://github.com/scikit-learn/scikit-learn/issues/21755 */display: inline-block !important;position: relative;}#sk-container-id-3 div.sk-text-repr-fallback {display: none;}</style><div id=\"sk-container-id-3\" class=\"sk-top-container\"><div class=\"sk-text-repr-fallback\"><pre>Pipeline(steps=[(&#x27;scaler&#x27;, StandardScaler()),\n",
       "                (&#x27;knn7&#x27;, KNeighborsClassifier(n_neighbors=7))])</pre><b>In a Jupyter environment, please rerun this cell to show the HTML representation or trust the notebook. <br />On GitHub, the HTML representation is unable to render, please try loading this page with nbviewer.org.</b></div><div class=\"sk-container\" hidden><div class=\"sk-item sk-dashed-wrapped\"><div class=\"sk-label-container\"><div class=\"sk-label sk-toggleable\"><input class=\"sk-toggleable__control sk-hidden--visually\" id=\"sk-estimator-id-8\" type=\"checkbox\" ><label for=\"sk-estimator-id-8\" class=\"sk-toggleable__label sk-toggleable__label-arrow\">Pipeline</label><div class=\"sk-toggleable__content\"><pre>Pipeline(steps=[(&#x27;scaler&#x27;, StandardScaler()),\n",
       "                (&#x27;knn7&#x27;, KNeighborsClassifier(n_neighbors=7))])</pre></div></div></div><div class=\"sk-serial\"><div class=\"sk-item\"><div class=\"sk-estimator sk-toggleable\"><input class=\"sk-toggleable__control sk-hidden--visually\" id=\"sk-estimator-id-9\" type=\"checkbox\" ><label for=\"sk-estimator-id-9\" class=\"sk-toggleable__label sk-toggleable__label-arrow\">StandardScaler</label><div class=\"sk-toggleable__content\"><pre>StandardScaler()</pre></div></div></div><div class=\"sk-item\"><div class=\"sk-estimator sk-toggleable\"><input class=\"sk-toggleable__control sk-hidden--visually\" id=\"sk-estimator-id-10\" type=\"checkbox\" ><label for=\"sk-estimator-id-10\" class=\"sk-toggleable__label sk-toggleable__label-arrow\">KNeighborsClassifier</label><div class=\"sk-toggleable__content\"><pre>KNeighborsClassifier(n_neighbors=7)</pre></div></div></div></div></div></div></div>"
      ],
      "text/plain": [
       "Pipeline(steps=[('scaler', StandardScaler()),\n",
       "                ('knn7', KNeighborsClassifier(n_neighbors=7))])"
      ]
     },
     "execution_count": 45,
     "metadata": {},
     "output_type": "execute_result"
    }
   ],
   "source": [
    "pipe2.fit(Xtrain,ytrain)"
   ]
  },
  {
   "cell_type": "code",
   "execution_count": 46,
   "id": "d20bc80e",
   "metadata": {
    "execution": {
     "iopub.execute_input": "2022-11-06T10:14:23.111445Z",
     "iopub.status.busy": "2022-11-06T10:14:23.110802Z",
     "iopub.status.idle": "2022-11-06T10:14:23.137121Z",
     "shell.execute_reply": "2022-11-06T10:14:23.135387Z"
    },
    "papermill": {
     "duration": 0.048044,
     "end_time": "2022-11-06T10:14:23.141676",
     "exception": false,
     "start_time": "2022-11-06T10:14:23.093632",
     "status": "completed"
    },
    "tags": []
   },
   "outputs": [],
   "source": [
    "pipe_pred = pipe2.predict(Xtest)"
   ]
  },
  {
   "cell_type": "code",
   "execution_count": 47,
   "id": "cfc58411",
   "metadata": {
    "execution": {
     "iopub.execute_input": "2022-11-06T10:14:23.215300Z",
     "iopub.status.busy": "2022-11-06T10:14:23.214620Z",
     "iopub.status.idle": "2022-11-06T10:14:23.241492Z",
     "shell.execute_reply": "2022-11-06T10:14:23.239889Z"
    },
    "papermill": {
     "duration": 0.066706,
     "end_time": "2022-11-06T10:14:23.244011",
     "exception": false,
     "start_time": "2022-11-06T10:14:23.177305",
     "status": "completed"
    },
    "scrolled": true,
    "tags": []
   },
   "outputs": [
    {
     "name": "stdout",
     "output_type": "stream",
     "text": [
      "              precision    recall  f1-score   support\n",
      "\n",
      "           B       0.96      0.96      0.96        71\n",
      "           M       0.93      0.93      0.93        43\n",
      "\n",
      "    accuracy                           0.95       114\n",
      "   macro avg       0.94      0.94      0.94       114\n",
      "weighted avg       0.95      0.95      0.95       114\n",
      "\n"
     ]
    }
   ],
   "source": [
    "print(classification_report(ytest,pipe_pred))"
   ]
  },
  {
   "cell_type": "code",
   "execution_count": 48,
   "id": "e6a00ad2",
   "metadata": {},
   "outputs": [
    {
     "data": {
      "text/plain": [
       "<sklearn.metrics._plot.confusion_matrix.ConfusionMatrixDisplay at 0x1f97bd1f0a0>"
      ]
     },
     "execution_count": 48,
     "metadata": {},
     "output_type": "execute_result"
    },
    {
     "data": {
      "image/png": "[encoded data removed]",
      "text/plain": [
       "<Figure size 432x288 with 2 Axes>"
      ]
     },
     "metadata": {
      "needs_background": "light"
     },
     "output_type": "display_data"
    }
   ],
   "source": [
    "ConfusionMatrixDisplay.from_estimator(pipe2,scaled_Xtest,ytest)"
   ]
  },
  {
   "cell_type": "code",
   "execution_count": 49,
   "id": "f46798c3",
   "metadata": {},
   "outputs": [],
   "source": [
    "#######################Finish Random Forest########################"
   ]
  },
  {
   "cell_type": "markdown",
   "id": "a34d5848",
   "metadata": {
    "papermill": {
     "duration": 0.013421,
     "end_time": "2022-11-06T10:14:23.271763",
     "exception": false,
     "start_time": "2022-11-06T10:14:23.258342",
     "status": "completed"
    },
    "tags": []
   },
   "source": [
    "# 4. Linear SVC"
   ]
  },
  {
   "cell_type": "code",
   "execution_count": 50,
   "id": "dc6032dc",
   "metadata": {
    "execution": {
     "iopub.execute_input": "2022-11-06T10:14:23.300915Z",
     "iopub.status.busy": "2022-11-06T10:14:23.300472Z",
     "iopub.status.idle": "2022-11-06T10:14:23.305050Z",
     "shell.execute_reply": "2022-11-06T10:14:23.303990Z"
    },
    "papermill": {
     "duration": 0.022148,
     "end_time": "2022-11-06T10:14:23.307590",
     "exception": false,
     "start_time": "2022-11-06T10:14:23.285442",
     "status": "completed"
    },
    "tags": []
   },
   "outputs": [],
   "source": [
    "# hyperparameter tuning\n",
    "#from sklearn.svm import SVC"
   ]
  },
  {
   "cell_type": "code",
   "execution_count": 51,
   "id": "95b16cbc",
   "metadata": {
    "execution": {
     "iopub.execute_input": "2022-11-06T10:14:23.336909Z",
     "iopub.status.busy": "2022-11-06T10:14:23.336209Z",
     "iopub.status.idle": "2022-11-06T10:14:23.341665Z",
     "shell.execute_reply": "2022-11-06T10:14:23.340766Z"
    },
    "papermill": {
     "duration": 0.022566,
     "end_time": "2022-11-06T10:14:23.344005",
     "exception": false,
     "start_time": "2022-11-06T10:14:23.321439",
     "status": "completed"
    },
    "tags": []
   },
   "outputs": [],
   "source": [
    "param_grid3 = {'C':[0.001, 0.01, 0.1, 1, 10],\n",
    "              'kernel':['linear','rbf']}\n",
    "svm = SVC()\n",
    "grid2 = GridSearchCV(svm, param_grid3)"
   ]
  },
  {
   "cell_type": "code",
   "execution_count": 52,
   "id": "cc1b135e",
   "metadata": {
    "execution": {
     "iopub.execute_input": "2022-11-06T10:14:23.374428Z",
     "iopub.status.busy": "2022-11-06T10:14:23.373260Z",
     "iopub.status.idle": "2022-11-06T10:14:23.674656Z",
     "shell.execute_reply": "2022-11-06T10:14:23.673267Z"
    },
    "papermill": {
     "duration": 0.31896,
     "end_time": "2022-11-06T10:14:23.677243",
     "exception": false,
     "start_time": "2022-11-06T10:14:23.358283",
     "status": "completed"
    },
    "tags": []
   },
   "outputs": [
    {
     "data": {
      "text/html": [
       "<style>#sk-container-id-4 {color: black;background-color: white;}#sk-container-id-4 pre{padding: 0;}#sk-container-id-4 div.sk-toggleable {background-color: white;}#sk-container-id-4 label.sk-toggleable__label {cursor: pointer;display: block;width: 100%;margin-bottom: 0;padding: 0.3em;box-sizing: border-box;text-align: center;}#sk-container-id-4 label.sk-toggleable__label-arrow:before {content: \"▸\";float: left;margin-right: 0.25em;color: #696969;}#sk-container-id-4 label.sk-toggleable__label-arrow:hover:before {color: black;}#sk-container-id-4 div.sk-estimator:hover label.sk-toggleable__label-arrow:before {color: black;}#sk-container-id-4 div.sk-toggleable__content {max-height: 0;max-width: 0;overflow: hidden;text-align: left;background-color: #f0f8ff;}#sk-container-id-4 div.sk-toggleable__content pre {margin: 0.2em;color: black;border-radius: 0.25em;background-color: #f0f8ff;}#sk-container-id-4 input.sk-toggleable__control:checked~div.sk-toggleable__content {max-height: 200px;max-width: 100%;overflow: auto;}#sk-container-id-4 input.sk-toggleable__control:checked~label.sk-toggleable__label-arrow:before {content: \"▾\";}#sk-container-id-4 div.sk-estimator input.sk-toggleable__control:checked~label.sk-toggleable__label {background-color: #d4ebff;}#sk-container-id-4 div.sk-label input.sk-toggleable__control:checked~label.sk-toggleable__label {background-color: #d4ebff;}#sk-container-id-4 input.sk-hidden--visually {border: 0;clip: rect(1px 1px 1px 1px);clip: rect(1px, 1px, 1px, 1px);height: 1px;margin: -1px;overflow: hidden;padding: 0;position: absolute;width: 1px;}#sk-container-id-4 div.sk-estimator {font-family: monospace;background-color: #f0f8ff;border: 1px dotted black;border-radius: 0.25em;box-sizing: border-box;margin-bottom: 0.5em;}#sk-container-id-4 div.sk-estimator:hover {background-color: #d4ebff;}#sk-container-id-4 div.sk-parallel-item::after {content: \"\";width: 100%;border-bottom: 1px solid gray;flex-grow: 1;}#sk-container-id-4 div.sk-label:hover label.sk-toggleable__label {background-color: #d4ebff;}#sk-container-id-4 div.sk-serial::before {content: \"\";position: absolute;border-left: 1px solid gray;box-sizing: border-box;top: 0;bottom: 0;left: 50%;z-index: 0;}#sk-container-id-4 div.sk-serial {display: flex;flex-direction: column;align-items: center;background-color: white;padding-right: 0.2em;padding-left: 0.2em;position: relative;}#sk-container-id-4 div.sk-item {position: relative;z-index: 1;}#sk-container-id-4 div.sk-parallel {display: flex;align-items: stretch;justify-content: center;background-color: white;position: relative;}#sk-container-id-4 div.sk-item::before, #sk-container-id-4 div.sk-parallel-item::before {content: \"\";position: absolute;border-left: 1px solid gray;box-sizing: border-box;top: 0;bottom: 0;left: 50%;z-index: -1;}#sk-container-id-4 div.sk-parallel-item {display: flex;flex-direction: column;z-index: 1;position: relative;background-color: white;}#sk-container-id-4 div.sk-parallel-item:first-child::after {align-self: flex-end;width: 50%;}#sk-container-id-4 div.sk-parallel-item:last-child::after {align-self: flex-start;width: 50%;}#sk-container-id-4 div.sk-parallel-item:only-child::after {width: 0;}#sk-container-id-4 div.sk-dashed-wrapped {border: 1px dashed gray;margin: 0 0.4em 0.5em 0.4em;box-sizing: border-box;padding-bottom: 0.4em;background-color: white;}#sk-container-id-4 div.sk-label label {font-family: monospace;font-weight: bold;display: inline-block;line-height: 1.2em;}#sk-container-id-4 div.sk-label-container {text-align: center;}#sk-container-id-4 div.sk-container {/* jupyter's `normalize.less` sets `[hidden] { display: none; }` but bootstrap.min.css set `[hidden] { display: none !important; }` so we also need the `!important` here to be able to override the default hidden behavior on the sphinx rendered scikit-learn.org. See: https://github.com/scikit-learn/scikit-learn/issues/21755 */display: inline-block !important;position: relative;}#sk-container-id-4 div.sk-text-repr-fallback {display: none;}</style><div id=\"sk-container-id-4\" class=\"sk-top-container\"><div class=\"sk-text-repr-fallback\"><pre>GridSearchCV(estimator=SVC(),\n",
       "             param_grid={&#x27;C&#x27;: [0.001, 0.01, 0.1, 1, 10],\n",
       "                         &#x27;kernel&#x27;: [&#x27;linear&#x27;, &#x27;rbf&#x27;]})</pre><b>In a Jupyter environment, please rerun this cell to show the HTML representation or trust the notebook. <br />On GitHub, the HTML representation is unable to render, please try loading this page with nbviewer.org.</b></div><div class=\"sk-container\" hidden><div class=\"sk-item sk-dashed-wrapped\"><div class=\"sk-label-container\"><div class=\"sk-label sk-toggleable\"><input class=\"sk-toggleable__control sk-hidden--visually\" id=\"sk-estimator-id-11\" type=\"checkbox\" ><label for=\"sk-estimator-id-11\" class=\"sk-toggleable__label sk-toggleable__label-arrow\">GridSearchCV</label><div class=\"sk-toggleable__content\"><pre>GridSearchCV(estimator=SVC(),\n",
       "             param_grid={&#x27;C&#x27;: [0.001, 0.01, 0.1, 1, 10],\n",
       "                         &#x27;kernel&#x27;: [&#x27;linear&#x27;, &#x27;rbf&#x27;]})</pre></div></div></div><div class=\"sk-parallel\"><div class=\"sk-parallel-item\"><div class=\"sk-item\"><div class=\"sk-label-container\"><div class=\"sk-label sk-toggleable\"><input class=\"sk-toggleable__control sk-hidden--visually\" id=\"sk-estimator-id-12\" type=\"checkbox\" ><label for=\"sk-estimator-id-12\" class=\"sk-toggleable__label sk-toggleable__label-arrow\">estimator: SVC</label><div class=\"sk-toggleable__content\"><pre>SVC()</pre></div></div></div><div class=\"sk-serial\"><div class=\"sk-item\"><div class=\"sk-estimator sk-toggleable\"><input class=\"sk-toggleable__control sk-hidden--visually\" id=\"sk-estimator-id-13\" type=\"checkbox\" ><label for=\"sk-estimator-id-13\" class=\"sk-toggleable__label sk-toggleable__label-arrow\">SVC</label><div class=\"sk-toggleable__content\"><pre>SVC()</pre></div></div></div></div></div></div></div></div></div></div>"
      ],
      "text/plain": [
       "GridSearchCV(estimator=SVC(),\n",
       "             param_grid={'C': [0.001, 0.01, 0.1, 1, 10],\n",
       "                         'kernel': ['linear', 'rbf']})"
      ]
     },
     "execution_count": 52,
     "metadata": {},
     "output_type": "execute_result"
    }
   ],
   "source": [
    "grid2.fit(scaled_Xtrain,ytrain)"
   ]
  },
  {
   "cell_type": "code",
   "execution_count": 53,
   "id": "9a6fc8dc",
   "metadata": {
    "execution": {
     "iopub.execute_input": "2022-11-06T10:14:23.708311Z",
     "iopub.status.busy": "2022-11-06T10:14:23.707384Z",
     "iopub.status.idle": "2022-11-06T10:14:23.715775Z",
     "shell.execute_reply": "2022-11-06T10:14:23.714677Z"
    },
    "papermill": {
     "duration": 0.027212,
     "end_time": "2022-11-06T10:14:23.718436",
     "exception": false,
     "start_time": "2022-11-06T10:14:23.691224",
     "status": "completed"
    },
    "tags": []
   },
   "outputs": [
    {
     "data": {
      "text/plain": [
       "<bound method BaseEstimator.get_params of SVC(C=1)>"
      ]
     },
     "execution_count": 53,
     "metadata": {},
     "output_type": "execute_result"
    }
   ],
   "source": [
    "grid2.best_estimator_.get_params"
   ]
  },
  {
   "cell_type": "code",
   "execution_count": 54,
   "id": "c7ab0b7c",
   "metadata": {
    "execution": {
     "iopub.execute_input": "2022-11-06T10:14:23.748967Z",
     "iopub.status.busy": "2022-11-06T10:14:23.747739Z",
     "iopub.status.idle": "2022-11-06T10:14:23.755283Z",
     "shell.execute_reply": "2022-11-06T10:14:23.754400Z"
    },
    "papermill": {
     "duration": 0.025343,
     "end_time": "2022-11-06T10:14:23.757732",
     "exception": false,
     "start_time": "2022-11-06T10:14:23.732389",
     "status": "completed"
    },
    "tags": []
   },
   "outputs": [
    {
     "data": {
      "text/plain": [
       "0.9758241758241759"
      ]
     },
     "execution_count": 54,
     "metadata": {},
     "output_type": "execute_result"
    }
   ],
   "source": [
    "grid2.best_score_"
   ]
  },
  {
   "cell_type": "code",
   "execution_count": 55,
   "id": "393c90be",
   "metadata": {
    "execution": {
     "iopub.execute_input": "2022-11-06T10:14:23.787627Z",
     "iopub.status.busy": "2022-11-06T10:14:23.787221Z",
     "iopub.status.idle": "2022-11-06T10:14:23.792468Z",
     "shell.execute_reply": "2022-11-06T10:14:23.791612Z"
    },
    "papermill": {
     "duration": 0.022711,
     "end_time": "2022-11-06T10:14:23.794536",
     "exception": false,
     "start_time": "2022-11-06T10:14:23.771825",
     "status": "completed"
    },
    "tags": []
   },
   "outputs": [],
   "source": [
    "ypred3 = grid2.predict(scaled_Xtest)"
   ]
  },
  {
   "cell_type": "code",
   "execution_count": 56,
   "id": "d7ef8ee8",
   "metadata": {
    "execution": {
     "iopub.execute_input": "2022-11-06T10:14:23.824484Z",
     "iopub.status.busy": "2022-11-06T10:14:23.823652Z",
     "iopub.status.idle": "2022-11-06T10:14:23.836524Z",
     "shell.execute_reply": "2022-11-06T10:14:23.835322Z"
    },
    "papermill": {
     "duration": 0.03019,
     "end_time": "2022-11-06T10:14:23.838871",
     "exception": false,
     "start_time": "2022-11-06T10:14:23.808681",
     "status": "completed"
    },
    "tags": []
   },
   "outputs": [
    {
     "name": "stdout",
     "output_type": "stream",
     "text": [
      "              precision    recall  f1-score   support\n",
      "\n",
      "           B       0.97      1.00      0.99        71\n",
      "           M       1.00      0.95      0.98        43\n",
      "\n",
      "    accuracy                           0.98       114\n",
      "   macro avg       0.99      0.98      0.98       114\n",
      "weighted avg       0.98      0.98      0.98       114\n",
      "\n"
     ]
    }
   ],
   "source": [
    "print(classification_report(ytest,ypred3))"
   ]
  },
  {
   "cell_type": "code",
   "execution_count": 57,
   "id": "5d08778a",
   "metadata": {
    "execution": {
     "iopub.execute_input": "2022-11-06T10:14:23.869971Z",
     "iopub.status.busy": "2022-11-06T10:14:23.869262Z",
     "iopub.status.idle": "2022-11-06T10:14:24.116383Z",
     "shell.execute_reply": "2022-11-06T10:14:24.115281Z"
    },
    "papermill": {
     "duration": 0.265906,
     "end_time": "2022-11-06T10:14:24.118942",
     "exception": false,
     "start_time": "2022-11-06T10:14:23.853036",
     "status": "completed"
    },
    "tags": []
   },
   "outputs": [
    {
     "data": {
      "text/plain": [
       "<sklearn.metrics._plot.confusion_matrix.ConfusionMatrixDisplay at 0x1f9774a4310>"
      ]
     },
     "execution_count": 57,
     "metadata": {},
     "output_type": "execute_result"
    },
    {
     "data": {
      "image/png": "[encoded data removed]",
      "text/plain": [
       "<Figure size 432x288 with 2 Axes>"
      ]
     },
     "metadata": {
      "needs_background": "light"
     },
     "output_type": "display_data"
    }
   ],
   "source": [
    "ConfusionMatrixDisplay.from_estimator(grid2,scaled_Xtest,ytest)"
   ]
  },
  {
   "cell_type": "markdown",
   "id": "e9700b2c",
   "metadata": {
    "papermill": {
     "duration": 0.014067,
     "end_time": "2022-11-06T10:14:24.147500",
     "exception": false,
     "start_time": "2022-11-06T10:14:24.133433",
     "status": "completed"
    },
    "tags": []
   },
   "source": [
    "## **Based on performance measures Linear SVC model seems to be performing better than all others!!**"
   ]
  },
  {
   "cell_type": "markdown",
   "id": "01064333",
   "metadata": {
    "execution": {
     "iopub.execute_input": "2022-11-03T12:30:41.738540Z",
     "iopub.status.busy": "2022-11-03T12:30:41.738108Z",
     "iopub.status.idle": "2022-11-03T12:30:41.743433Z",
     "shell.execute_reply": "2022-11-03T12:30:41.742533Z",
     "shell.execute_reply.started": "2022-11-03T12:30:41.738504Z"
    },
    "papermill": {
     "duration": 0.013133,
     "end_time": "2022-11-06T10:14:22.971221",
     "exception": false,
     "start_time": "2022-11-06T10:14:22.958088",
     "status": "completed"
    },
    "tags": []
   },
   "source": [
    "## Refrences:\n",
    "\n",
    "##############################################################################################################################\n",
    "1. UCI Machine Learning Repository \n",
    "2. CloudXLab\n",
    "3. Scikit learn API\n",
    "4. kaggle.com\n",
    "5. Cancer.org\n",
    "##############################################################################################################################\n"
   ]
  },
  {
   "cell_type": "code",
   "execution_count": null,
   "id": "3b691ac2",
   "metadata": {},
   "outputs": [],
   "source": []
  }
 ],
 "metadata": {
  "celltoolbar": "Raw Cell Format",
  "kernelspec": {
   "display_name": "Python 3 (ipykernel)",
   "language": "python",
   "name": "python3"
  },
  "language_info": {
   "codemirror_mode": {
    "name": "ipython",
    "version": 3
   },
   "file_extension": ".py",
   "mimetype": "text/x-python",
   "name": "python",
   "nbconvert_exporter": "python",
   "pygments_lexer": "ipython3",
   "version": "3.9.7"
  },
  "papermill": {
   "default_parameters": {},
   "duration": 223.202933,
   "end_time": "2022-11-06T10:14:25.013663",
   "environment_variables": {},
   "exception": null,
   "input_path": "__notebook__.ipynb",
   "output_path": "__notebook__.ipynb",
   "parameters": {},
   "start_time": "2022-11-06T10:10:41.810730",
   "version": "2.3.4"
  }
 },
 "nbformat": 4,
 "nbformat_minor": 5
}
